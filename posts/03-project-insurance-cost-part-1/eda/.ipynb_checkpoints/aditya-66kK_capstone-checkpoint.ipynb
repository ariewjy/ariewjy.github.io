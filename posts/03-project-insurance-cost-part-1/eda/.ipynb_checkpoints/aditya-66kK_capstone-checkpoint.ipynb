{
 "cells": [
  {
   "cell_type": "raw",
   "id": "66017b01",
   "metadata": {},
   "source": [
    "---\n",
    "title: \"My Notebook\"\n",
    "execute: \n",
    "  enabled: false\n",
    "draft: true\n",
    "---"
   ]
  },
  {
   "cell_type": "markdown",
   "id": "d311168f-62c6-41d9-a7d3-8e71ca5f81ae",
   "metadata": {},
   "source": [
    "# 1. Introduction & Business Understanding\n",
    "---"
   ]
  },
  {
   "cell_type": "markdown",
   "id": "6763725e-c51d-4db4-9096-a4f58272a6dd",
   "metadata": {},
   "source": [
    "Asuransi kesehatan adalah salah satu hal yang patut diperhatikan karena bersangkutan dengan kebutuhan perencanaan masa depan. Pengguna asuransi kesehatan diwajibkan untuk membayar besaran uang secara rutin (premi) kepada pihak perusahaan asuransi. Premi tersebut diolah oleh perusahaan asuransi untuk membayarkan tagihan kesehatan pengguna yang tertanggung. Penentuan nilai premi menjadi tantangan tersendiri bagi pihak asuransi mengingat ada banyak faktor yang dapat mempengaruhi & meningkatkan profil resiko pengguna.\n",
    "\n",
    "Project ini dibuat untuk menjawab menganalisa variable-variabel yang memiliki hubungan dengan tagihan kesehatan yang diterima oleh setiap pengguna. Anda akan diberikan data yang berisi data personal pengguna seperti umur, gender, tempat tinggal pengguna, banyak anak tertanggung asuransi, nilai bmi, keadaan merokok atau tidaknya pengguna.\n",
    "\n",
    "Metadata sebagai berikut:\n",
    "\n",
    "1. `age`: umur peserta asuransi\n",
    "1. `sex`: jenis kelamin\n",
    "1. `bmi`: body mass index dari peserta\n",
    "1. `children`: banyak anak/ tanggungan dari peserta\n",
    "1. `smoker`: apakah peserta perokok/tidak\n",
    "1. `region`: lokasi/ region dari peserta (US)\n",
    "1. `charges`: tagihan kesehatan peserta."
   ]
  },
  {
   "cell_type": "markdown",
   "id": "23bd0280-1bbb-46a7-8fee-1dd1cedd3bed",
   "metadata": {},
   "source": [
    "# 2. Data Understanding\n",
    "---"
   ]
  },
  {
   "cell_type": "markdown",
   "id": "44dbae03-3025-4667-b8fb-f5e155a72d41",
   "metadata": {},
   "source": [
    "## Importing Library"
   ]
  },
  {
   "cell_type": "code",
   "execution_count": 185,
   "id": "3b2df194-6f1e-4ea7-b35a-1bfae35db9c1",
   "metadata": {},
   "outputs": [],
   "source": [
    "import pandas as pd\n",
    "import numpy as np\n",
    "import matplotlib.pyplot as plt\n",
    "import seaborn as sns\n",
    "import altair as alt\n",
    "# import hvplot.pandas\n",
    "\n",
    "sns.set_theme(style='white', palette='tab20') #setting theme"
   ]
  },
  {
   "cell_type": "markdown",
   "id": "ed427d51-ee86-4d74-91a9-d79e9d97f972",
   "metadata": {},
   "source": [
    "## Importing Dataset"
   ]
  },
  {
   "cell_type": "code",
   "execution_count": 72,
   "id": "449f6a8a-32f8-4f2c-b742-d0640616d20c",
   "metadata": {},
   "outputs": [
    {
     "data": {
      "text/html": [
       "<div>\n",
       "<style scoped>\n",
       "    .dataframe tbody tr th:only-of-type {\n",
       "        vertical-align: middle;\n",
       "    }\n",
       "\n",
       "    .dataframe tbody tr th {\n",
       "        vertical-align: top;\n",
       "    }\n",
       "\n",
       "    .dataframe thead th {\n",
       "        text-align: right;\n",
       "    }\n",
       "</style>\n",
       "<table border=\"1\" class=\"dataframe\">\n",
       "  <thead>\n",
       "    <tr style=\"text-align: right;\">\n",
       "      <th></th>\n",
       "      <th>age</th>\n",
       "      <th>sex</th>\n",
       "      <th>bmi</th>\n",
       "      <th>children</th>\n",
       "      <th>smoker</th>\n",
       "      <th>region</th>\n",
       "      <th>charges</th>\n",
       "    </tr>\n",
       "  </thead>\n",
       "  <tbody>\n",
       "    <tr>\n",
       "      <th>0</th>\n",
       "      <td>19</td>\n",
       "      <td>female</td>\n",
       "      <td>27.900</td>\n",
       "      <td>0</td>\n",
       "      <td>yes</td>\n",
       "      <td>southwest</td>\n",
       "      <td>16884.92400</td>\n",
       "    </tr>\n",
       "    <tr>\n",
       "      <th>1</th>\n",
       "      <td>18</td>\n",
       "      <td>male</td>\n",
       "      <td>33.770</td>\n",
       "      <td>1</td>\n",
       "      <td>no</td>\n",
       "      <td>southeast</td>\n",
       "      <td>1725.55230</td>\n",
       "    </tr>\n",
       "    <tr>\n",
       "      <th>2</th>\n",
       "      <td>28</td>\n",
       "      <td>male</td>\n",
       "      <td>33.000</td>\n",
       "      <td>3</td>\n",
       "      <td>no</td>\n",
       "      <td>southeast</td>\n",
       "      <td>4449.46200</td>\n",
       "    </tr>\n",
       "    <tr>\n",
       "      <th>3</th>\n",
       "      <td>33</td>\n",
       "      <td>male</td>\n",
       "      <td>22.705</td>\n",
       "      <td>0</td>\n",
       "      <td>no</td>\n",
       "      <td>northwest</td>\n",
       "      <td>21984.47061</td>\n",
       "    </tr>\n",
       "    <tr>\n",
       "      <th>4</th>\n",
       "      <td>32</td>\n",
       "      <td>male</td>\n",
       "      <td>28.880</td>\n",
       "      <td>0</td>\n",
       "      <td>no</td>\n",
       "      <td>northwest</td>\n",
       "      <td>3866.85520</td>\n",
       "    </tr>\n",
       "    <tr>\n",
       "      <th>...</th>\n",
       "      <td>...</td>\n",
       "      <td>...</td>\n",
       "      <td>...</td>\n",
       "      <td>...</td>\n",
       "      <td>...</td>\n",
       "      <td>...</td>\n",
       "      <td>...</td>\n",
       "    </tr>\n",
       "    <tr>\n",
       "      <th>1333</th>\n",
       "      <td>50</td>\n",
       "      <td>male</td>\n",
       "      <td>30.970</td>\n",
       "      <td>3</td>\n",
       "      <td>no</td>\n",
       "      <td>northwest</td>\n",
       "      <td>10600.54830</td>\n",
       "    </tr>\n",
       "    <tr>\n",
       "      <th>1334</th>\n",
       "      <td>18</td>\n",
       "      <td>female</td>\n",
       "      <td>31.920</td>\n",
       "      <td>0</td>\n",
       "      <td>no</td>\n",
       "      <td>northeast</td>\n",
       "      <td>2205.98080</td>\n",
       "    </tr>\n",
       "    <tr>\n",
       "      <th>1335</th>\n",
       "      <td>18</td>\n",
       "      <td>female</td>\n",
       "      <td>36.850</td>\n",
       "      <td>0</td>\n",
       "      <td>no</td>\n",
       "      <td>southeast</td>\n",
       "      <td>1629.83350</td>\n",
       "    </tr>\n",
       "    <tr>\n",
       "      <th>1336</th>\n",
       "      <td>21</td>\n",
       "      <td>female</td>\n",
       "      <td>25.800</td>\n",
       "      <td>0</td>\n",
       "      <td>no</td>\n",
       "      <td>southwest</td>\n",
       "      <td>2007.94500</td>\n",
       "    </tr>\n",
       "    <tr>\n",
       "      <th>1337</th>\n",
       "      <td>61</td>\n",
       "      <td>female</td>\n",
       "      <td>29.070</td>\n",
       "      <td>0</td>\n",
       "      <td>yes</td>\n",
       "      <td>northwest</td>\n",
       "      <td>29141.36030</td>\n",
       "    </tr>\n",
       "  </tbody>\n",
       "</table>\n",
       "<p>1338 rows × 7 columns</p>\n",
       "</div>"
      ],
      "text/plain": [
       "      age     sex     bmi  children smoker     region      charges\n",
       "0      19  female  27.900         0    yes  southwest  16884.92400\n",
       "1      18    male  33.770         1     no  southeast   1725.55230\n",
       "2      28    male  33.000         3     no  southeast   4449.46200\n",
       "3      33    male  22.705         0     no  northwest  21984.47061\n",
       "4      32    male  28.880         0     no  northwest   3866.85520\n",
       "...   ...     ...     ...       ...    ...        ...          ...\n",
       "1333   50    male  30.970         3     no  northwest  10600.54830\n",
       "1334   18  female  31.920         0     no  northeast   2205.98080\n",
       "1335   18  female  36.850         0     no  southeast   1629.83350\n",
       "1336   21  female  25.800         0     no  southwest   2007.94500\n",
       "1337   61  female  29.070         0    yes  northwest  29141.36030\n",
       "\n",
       "[1338 rows x 7 columns]"
      ]
     },
     "execution_count": 72,
     "metadata": {},
     "output_type": "execute_result"
    }
   ],
   "source": [
    "insurance = pd.read_csv('./insurance.zip')\n",
    "insurance"
   ]
  },
  {
   "cell_type": "markdown",
   "id": "8126e360-6dc6-4bf7-9f39-fac2c459831c",
   "metadata": {},
   "source": [
    "## 1. Analisa Descriptive Statistics"
   ]
  },
  {
   "cell_type": "markdown",
   "id": "d4f23205-9dbc-47c4-987a-52c5ca7f3ec8",
   "metadata": {},
   "source": [
    "### 1.1 Rata-rata umur pengguna"
   ]
  },
  {
   "cell_type": "code",
   "execution_count": 73,
   "id": "f2c8a16c-7849-47d5-b8e0-ab05e37dbcdf",
   "metadata": {},
   "outputs": [
    {
     "data": {
      "text/plain": [
       "39.20702541106129"
      ]
     },
     "execution_count": 73,
     "metadata": {},
     "output_type": "execute_result"
    },
    {
     "data": {
      "image/png": "[encoded data removed]",
      "text/plain": [
       "<Figure size 640x480 with 1 Axes>"
      ]
     },
     "metadata": {},
     "output_type": "display_data"
    }
   ],
   "source": [
    "insurance.age.plot(kind='box');\n",
    "\n",
    "insurance.age.mean()"
   ]
  },
  {
   "cell_type": "markdown",
   "id": "5040165c-184e-4949-8132-8051448e742a",
   "metadata": {},
   "source": [
    "- Rerata umur pengguna asuransi adalah 39"
   ]
  },
  {
   "cell_type": "markdown",
   "id": "c452c7d8-8209-49d5-adbb-6b9f1256c308",
   "metadata": {},
   "source": [
    "### 1.2. Rata-rata nilai BMI dari pengguna yang merokok"
   ]
  },
  {
   "cell_type": "code",
   "execution_count": 74,
   "id": "cf537a41-cee9-4bb8-bb0c-b517831e716b",
   "metadata": {},
   "outputs": [
    {
     "data": {
      "text/plain": [
       "smoker\n",
       "no     30.651795\n",
       "yes    30.708449\n",
       "Name: bmi, dtype: float64"
      ]
     },
     "execution_count": 74,
     "metadata": {},
     "output_type": "execute_result"
    }
   ],
   "source": [
    "insurance.groupby('smoker').bmi.mean()"
   ]
  },
  {
   "cell_type": "markdown",
   "id": "7c160da0-06c0-48c0-ac0b-ea3ebc097eb0",
   "metadata": {},
   "source": [
    "- Rerata BMI perokok adalah 30.7, sementara BMI non-perokok adalah 30.65. Tidak banyak perbedaan"
   ]
  },
  {
   "cell_type": "markdown",
   "id": "79d95eb4-a5bd-45d5-b018-a54f01c86d57",
   "metadata": {},
   "source": [
    "### 1.3. Berapa Rata-rata umur perokok"
   ]
  },
  {
   "cell_type": "code",
   "execution_count": 75,
   "id": "a5037d7b-4e9a-4b46-91a8-7d227c2721a6",
   "metadata": {},
   "outputs": [
    {
     "data": {
      "text/plain": [
       "smoker\n",
       "no     39.385338\n",
       "yes    38.514599\n",
       "Name: age, dtype: float64"
      ]
     },
     "execution_count": 75,
     "metadata": {},
     "output_type": "execute_result"
    }
   ],
   "source": [
    "insurance.groupby('smoker').age.mean()"
   ]
  },
  {
   "cell_type": "markdown",
   "id": "2c687ea7-d32e-44d2-8a4e-f304f6caa5e0",
   "metadata": {},
   "source": [
    "- Rerata umur orang yang merokok adalah 38.51. "
   ]
  },
  {
   "cell_type": "markdown",
   "id": "3e6c3d33-f935-4b13-97b7-3a4248fac05b",
   "metadata": {},
   "source": [
    "### 1.4. Berapa rata-rata nilai BMI dari yang Merokok? "
   ]
  },
  {
   "cell_type": "code",
   "execution_count": 76,
   "id": "91c8feba-f563-4ca0-9a87-88d067ccc36f",
   "metadata": {},
   "outputs": [
    {
     "data": {
      "text/plain": [
       "smoker\n",
       "no     30.651795\n",
       "yes    30.708449\n",
       "Name: bmi, dtype: float64"
      ]
     },
     "execution_count": 76,
     "metadata": {},
     "output_type": "execute_result"
    }
   ],
   "source": [
    "insurance.groupby('smoker').bmi.mean()"
   ]
  },
  {
   "cell_type": "markdown",
   "id": "54e0cb5a-bf3b-4d3d-869d-735d6bf5f2cc",
   "metadata": {},
   "source": [
    "- Rata-rata nilai `BMI` dari perokok adalah 30.71"
   ]
  },
  {
   "cell_type": "markdown",
   "id": "b2522ed4-2b1f-4362-9309-f7c56d9329d4",
   "metadata": {},
   "source": [
    "### 1.5 Apakah variansi dari data charges perokok dan non-perokok sama?"
   ]
  },
  {
   "cell_type": "code",
   "execution_count": 77,
   "id": "82c20352-5ffb-4f9a-b811-11f3e522c6a3",
   "metadata": {},
   "outputs": [
    {
     "data": {
      "text/html": [
       "<div>\n",
       "<style scoped>\n",
       "    .dataframe tbody tr th:only-of-type {\n",
       "        vertical-align: middle;\n",
       "    }\n",
       "\n",
       "    .dataframe tbody tr th {\n",
       "        vertical-align: top;\n",
       "    }\n",
       "\n",
       "    .dataframe thead th {\n",
       "        text-align: right;\n",
       "    }\n",
       "</style>\n",
       "<table border=\"1\" class=\"dataframe\">\n",
       "  <thead>\n",
       "    <tr style=\"text-align: right;\">\n",
       "      <th></th>\n",
       "      <th>var</th>\n",
       "    </tr>\n",
       "    <tr>\n",
       "      <th>smoker</th>\n",
       "      <th></th>\n",
       "    </tr>\n",
       "  </thead>\n",
       "  <tbody>\n",
       "    <tr>\n",
       "      <th>no</th>\n",
       "      <td>35925420.0</td>\n",
       "    </tr>\n",
       "    <tr>\n",
       "      <th>yes</th>\n",
       "      <td>133207311.0</td>\n",
       "    </tr>\n",
       "  </tbody>\n",
       "</table>\n",
       "</div>"
      ],
      "text/plain": [
       "                var\n",
       "smoker             \n",
       "no       35925420.0\n",
       "yes     133207311.0"
      ]
     },
     "execution_count": 77,
     "metadata": {},
     "output_type": "execute_result"
    }
   ],
   "source": [
    "(insurance\n",
    " .groupby('smoker')\n",
    " .charges\n",
    " .agg([np.var])\n",
    " .round()\n",
    ")"
   ]
  },
  {
   "cell_type": "code",
   "execution_count": 78,
   "id": "86fdb4cb-da9e-4091-b48d-c80de4dfa291",
   "metadata": {},
   "outputs": [
    {
     "data": {
      "text/plain": [
       "smoker\n",
       "no     100.000001\n",
       "yes    370.788459\n",
       "Name: charges, dtype: float64"
      ]
     },
     "execution_count": 78,
     "metadata": {},
     "output_type": "execute_result"
    }
   ],
   "source": [
    "insurance.groupby('smoker').charges.var()/35925420.0*100"
   ]
  },
  {
   "cell_type": "markdown",
   "id": "d7eaefec-9a31-4393-b8a7-5261b0e3014a",
   "metadata": {},
   "source": [
    "- Variansi perokok dan non perokok sangat berbeda. Nilai variansi `charges` perokok adalah 370% lebih tinggi daripada non-perokok. "
   ]
  },
  {
   "cell_type": "markdown",
   "id": "f3f379bf-13e0-41d8-8e57-620ee63f18a3",
   "metadata": {},
   "source": [
    "### 1.6. Rata-rata umur perempuan dan laki-laki yang merokok"
   ]
  },
  {
   "cell_type": "code",
   "execution_count": 79,
   "id": "07d6152c-e18a-4538-8124-77b88425782e",
   "metadata": {},
   "outputs": [
    {
     "data": {
      "text/plain": [
       "sex\n",
       "female    38.608696\n",
       "male      38.446541\n",
       "Name: age, dtype: float64"
      ]
     },
     "execution_count": 79,
     "metadata": {},
     "output_type": "execute_result"
    }
   ],
   "source": [
    "(insurance\n",
    " .query(\"smoker == 'yes'\")\n",
    " .groupby('sex')\n",
    " .age\n",
    " .mean()\n",
    ")"
   ]
  },
  {
   "cell_type": "markdown",
   "id": "f140dff3-d7c4-4269-8bfa-48fa562a0346",
   "metadata": {},
   "source": [
    "- Rerata umur perokok perempuan adalah 38.61, dan laki-laki adalah 38.45. \n",
    "- Perbedaan rerata umur perokok beda kelamin sangat kecil. "
   ]
  },
  {
   "cell_type": "markdown",
   "id": "0ecae08f-44b6-4979-9459-8f99ffc64cbf",
   "metadata": {},
   "source": [
    "### 1.7. Mana yang lebih tinggi, rata-rata tagihan kesehatan `charges` perokok atau non-perokok?"
   ]
  },
  {
   "cell_type": "code",
   "execution_count": 80,
   "id": "609ed753-83dd-4fde-8215-5d47180374e4",
   "metadata": {},
   "outputs": [
    {
     "data": {
      "text/plain": [
       "smoker\n",
       "no      8434.268298\n",
       "yes    32050.231832\n",
       "Name: charges, dtype: float64"
      ]
     },
     "execution_count": 80,
     "metadata": {},
     "output_type": "execute_result"
    }
   ],
   "source": [
    "(insurance\n",
    " .groupby('smoker')\n",
    " .charges\n",
    " .mean()\n",
    ")"
   ]
  },
  {
   "cell_type": "code",
   "execution_count": 81,
   "id": "de9989bf-48fb-4dcf-8769-f86ee734f497",
   "metadata": {},
   "outputs": [
    {
     "data": {
      "text/plain": [
       "smoker\n",
       "no     100.000000\n",
       "yes    380.000146\n",
       "Name: charges, dtype: float64"
      ]
     },
     "execution_count": 81,
     "metadata": {},
     "output_type": "execute_result"
    }
   ],
   "source": [
    "(insurance\n",
    " .groupby('smoker')\n",
    " .charges\n",
    " .mean()\n",
    " /8434.268298\n",
    " *100\n",
    ")"
   ]
  },
  {
   "cell_type": "markdown",
   "id": "30961914-54a1-4254-928c-8e4db45d6d2f",
   "metadata": {},
   "source": [
    "- Tagihan kesehatan `charges` perokok adalah `380%` lebih tinggi dibandingkan dengan non-perokok. "
   ]
  },
  {
   "cell_type": "markdown",
   "id": "cf642532-81fe-4231-bf6f-f106e6500cd1",
   "metadata": {},
   "source": [
    "### 1.8. Mana yang lebih tinggi, rata-rata tagihan kesehatan `charges` perokok yang BMI-nya di atas 25 atau non-perokok yang BMI-nya di atas 25?"
   ]
  },
  {
   "cell_type": "code",
   "execution_count": 82,
   "id": "df713006-dd10-4170-90d4-e909c4da7e34",
   "metadata": {},
   "outputs": [
    {
     "data": {
      "text/plain": [
       "smoker\n",
       "no      8629.589610\n",
       "yes    35116.909657\n",
       "Name: charges, dtype: float64"
      ]
     },
     "execution_count": 82,
     "metadata": {},
     "output_type": "execute_result"
    }
   ],
   "source": [
    "(insurance\n",
    " .query(\"bmi > 25\")\n",
    " .groupby('smoker')\n",
    " .charges\n",
    " .mean()\n",
    ")"
   ]
  },
  {
   "cell_type": "markdown",
   "id": "b374fdd9-f202-468f-bb90-614fa6891369",
   "metadata": {},
   "source": [
    "- Lebih tinggi tagihan perokok dengan bmi di atas 25, dibandingkan non-perokok dengan bmi di atas 25. "
   ]
  },
  {
   "cell_type": "markdown",
   "id": "fa65a41f-a063-4ed4-a0fb-12c73da7736a",
   "metadata": {},
   "source": [
    "#### 1.9. BMI mana yang lebih tinggi, seorang laki-laki atau perempuan?"
   ]
  },
  {
   "cell_type": "code",
   "execution_count": 83,
   "id": "3769f5f6-e05f-4027-9342-56b9c85c0905",
   "metadata": {},
   "outputs": [
    {
     "data": {
      "text/plain": [
       "sex\n",
       "female    30.377749\n",
       "male      30.943129\n",
       "Name: bmi, dtype: float64"
      ]
     },
     "execution_count": 83,
     "metadata": {},
     "output_type": "execute_result"
    }
   ],
   "source": [
    "(insurance\n",
    " .groupby('sex')\n",
    " .bmi\n",
    " .mean()\n",
    ")"
   ]
  },
  {
   "cell_type": "markdown",
   "id": "f35b909b-afaa-4677-a695-a5a35f4c07aa",
   "metadata": {},
   "source": [
    "- BMI yang lebih tinggi adalah laki-laki, walaupun selisihnya cuma 0.6 kilogram saja. Sangat kecil."
   ]
  },
  {
   "cell_type": "markdown",
   "id": "80c19642-054b-4a80-a944-ab4c32e71949",
   "metadata": {},
   "source": [
    "### 1.10. BMI mana yang lebih tinggi, seorang perokok atau non-perokok?"
   ]
  },
  {
   "cell_type": "code",
   "execution_count": 84,
   "id": "033df00b-f0a6-4e0b-a4e9-bc4e597e33d0",
   "metadata": {},
   "outputs": [
    {
     "data": {
      "text/plain": [
       "smoker\n",
       "no     30.651795\n",
       "yes    30.708449\n",
       "Name: bmi, dtype: float64"
      ]
     },
     "execution_count": 84,
     "metadata": {},
     "output_type": "execute_result"
    }
   ],
   "source": [
    "(insurance\n",
    " .groupby('smoker')\n",
    " .bmi\n",
    " .mean()\n",
    ")"
   ]
  },
  {
   "cell_type": "markdown",
   "id": "974299c0-0b6c-4612-a73d-2a407d9d2fe5",
   "metadata": {},
   "source": [
    "- `BMI` perokok lebih tinggi daripada non-perokok, namun selisihnya sangatlah kecil (0.05 kilogram saja)"
   ]
  },
  {
   "cell_type": "markdown",
   "id": "5715d55b-5b5c-4baa-aa10-c001d6eb0440",
   "metadata": {},
   "source": [
    "## 2. Analisa Variable Kategorik (PMF)"
   ]
  },
  {
   "cell_type": "markdown",
   "id": "c6b5ed6d-d12f-4ff4-b006-eb1d2ec502aa",
   "metadata": {},
   "source": [
    "### 2.1. Gender mana yang memiliki tagihan paling tinggi? Female / Male?"
   ]
  },
  {
   "cell_type": "code",
   "execution_count": 85,
   "id": "7f8f7ae3-3225-42af-8fb7-2bde44bd6837",
   "metadata": {},
   "outputs": [
    {
     "data": {
      "text/plain": [
       "sex\n",
       "female    12569.578844\n",
       "male      13956.751178\n",
       "Name: charges, dtype: float64"
      ]
     },
     "execution_count": 85,
     "metadata": {},
     "output_type": "execute_result"
    }
   ],
   "source": [
    "(insurance\n",
    " .groupby('sex')\n",
    " .charges\n",
    " .mean()\n",
    ")"
   ]
  },
  {
   "cell_type": "markdown",
   "id": "a2acd7b0-0041-49b4-a13a-881ff43cd61d",
   "metadata": {},
   "source": [
    "- Gender laki-laki memiliki rerata tagihan kesehatan paling tinggi. "
   ]
  },
  {
   "cell_type": "markdown",
   "id": "c9929c94-8b91-4cbb-ae7d-b643ab108428",
   "metadata": {},
   "source": [
    "### 2.2. Distribusi peluang tagihan di tiap-tiap region"
   ]
  },
  {
   "cell_type": "code",
   "execution_count": 86,
   "id": "3525a1b1-25e2-43bc-a2f8-b1f8c979d3df",
   "metadata": {},
   "outputs": [
    {
     "data": {
      "text/plain": [
       "region\n",
       "northeast    0.242152\n",
       "northwest    0.242900\n",
       "southeast    0.272048\n",
       "southwest    0.242900\n",
       "Name: charges, dtype: float64"
      ]
     },
     "execution_count": 86,
     "metadata": {},
     "output_type": "execute_result"
    }
   ],
   "source": [
    "insurance.groupby('region').charges.count()/len(insurance)"
   ]
  },
  {
   "cell_type": "markdown",
   "id": "873ce271-0680-4bf5-9c61-8f1ddffbb160",
   "metadata": {},
   "source": [
    "- Distribusi peluang tagihan masing-masing region terlihat tidak jauh berbeda"
   ]
  },
  {
   "cell_type": "markdown",
   "id": "9631e3cb-5959-45da-9c4d-9bdc8fd8fba9",
   "metadata": {},
   "source": [
    "### 2.3. Apakah setiap region memiliki proporsi data banyak orang yang sama?"
   ]
  },
  {
   "cell_type": "code",
   "execution_count": 87,
   "id": "b01b2785-7a86-41ca-aae4-119c5587783b",
   "metadata": {},
   "outputs": [
    {
     "data": {
      "text/plain": [
       "region\n",
       "northeast    24.215247\n",
       "northwest    24.289985\n",
       "southeast    27.204783\n",
       "southwest    24.289985\n",
       "Name: charges, dtype: float64"
      ]
     },
     "execution_count": 87,
     "metadata": {},
     "output_type": "execute_result"
    }
   ],
   "source": [
    "insurance.groupby('region').charges.count()/len(insurance)*100"
   ]
  },
  {
   "cell_type": "markdown",
   "id": "8252fff3-91ad-41c1-a9eb-5d1163e17e4d",
   "metadata": {},
   "source": [
    "- Berdasarkan distribusi statistik di atas, proporsi data banyak orang di tiap region mirip satu sama lain, dengan perbedaan sangat sedikit (maksimal 12%)."
   ]
  },
  {
   "cell_type": "markdown",
   "id": "124682f9-3867-40dd-b0cb-e215605c9024",
   "metadata": {},
   "source": [
    "### 2.4. Mana yang lebih tinggi, proporsi perokok/ non-perokok?"
   ]
  },
  {
   "cell_type": "code",
   "execution_count": 88,
   "id": "c0e240e3-bf7a-4e5d-aef7-f69f8efeecf4",
   "metadata": {},
   "outputs": [
    {
     "data": {
      "text/plain": [
       "smoker\n",
       "no     1064\n",
       "yes     274\n",
       "Name: smoker, dtype: int64"
      ]
     },
     "execution_count": 88,
     "metadata": {},
     "output_type": "execute_result"
    }
   ],
   "source": [
    "insurance.groupby('smoker').smoker.count()"
   ]
  },
  {
   "cell_type": "code",
   "execution_count": 89,
   "id": "4a9cb950-ea4b-4509-8f18-76aaeb06f1a4",
   "metadata": {},
   "outputs": [
    {
     "data": {
      "text/plain": [
       "20.47832585949178"
      ]
     },
     "execution_count": 89,
     "metadata": {},
     "output_type": "execute_result"
    }
   ],
   "source": [
    "insurance.query(\"smoker == 'yes'\").smoker.count()/len(insurance)*100"
   ]
  },
  {
   "cell_type": "markdown",
   "id": "fa43a0af-9162-4ce9-a796-4d84989a18c0",
   "metadata": {},
   "source": [
    "- Lebih besar proporsi data non-perokok (80%) dibandingkan perokok (20%)."
   ]
  },
  {
   "cell_type": "markdown",
   "id": "34e534fd-559f-4b75-a1e0-76ff445c4f0f",
   "metadata": {},
   "source": [
    "### 2.5. Berapa peluang seseorang tersebut adalah perempuan bila diketahui dia adalah perokok?"
   ]
  },
  {
   "cell_type": "markdown",
   "id": "2c32e5f4-7a90-4515-8f47-6393cb341e14",
   "metadata": {},
   "source": [
    "Peluang seseorang adalah `perempuan` bila diketahui dia adalah `perokok`, berarti menggunakan ruang sample semua pengguna yang merokok, kemudian dicari peluang perempuan.\n",
    "\n",
    "$$ P(perempuan|perokok)=\\frac {n(perempuan \\cap perokok)} {n(perokok)} $$"
   ]
  },
  {
   "cell_type": "code",
   "execution_count": 90,
   "id": "7bd209be-ebe8-4fd8-9fbc-09ebd3027552",
   "metadata": {},
   "outputs": [
    {
     "data": {
      "text/plain": [
       "274"
      ]
     },
     "execution_count": 90,
     "metadata": {},
     "output_type": "execute_result"
    }
   ],
   "source": [
    "n_perokok = \\\n",
    "insurance.query(\"smoker == 'yes' \").smoker.count()\n",
    "\n",
    "n_perokok"
   ]
  },
  {
   "cell_type": "code",
   "execution_count": 91,
   "id": "de68829d-ca67-49ba-ab6b-cee3439d7c80",
   "metadata": {},
   "outputs": [
    {
     "data": {
      "text/plain": [
       "115"
      ]
     },
     "execution_count": 91,
     "metadata": {},
     "output_type": "execute_result"
    }
   ],
   "source": [
    "n_perempuan_dan_perokok = \\\n",
    "insurance.query(\"smoker == 'yes' & sex == 'female'\").sex.count()\n",
    "\n",
    "n_perempuan_dan_perokok"
   ]
  },
  {
   "cell_type": "code",
   "execution_count": 92,
   "id": "6fe38812-ae4f-4e2c-ac74-5731fac2aa42",
   "metadata": {},
   "outputs": [
    {
     "data": {
      "text/plain": [
       "42.0"
      ]
     },
     "execution_count": 92,
     "metadata": {},
     "output_type": "execute_result"
    }
   ],
   "source": [
    "peluang_perempuan_bila_perokok = n_perempuan_dan_perokok/n_perokok\n",
    "\n",
    "peluang_perempuan_bila_perokok.round(2)*100"
   ]
  },
  {
   "cell_type": "markdown",
   "id": "9d07e3a2-7eb3-4a7f-b13f-1b7102dba1a5",
   "metadata": {},
   "source": [
    "- Bila seseorang merokok, maka 42% seseorang tersebut adalah perempuan."
   ]
  },
  {
   "cell_type": "markdown",
   "id": "5015af04-7867-473d-b10e-bf8ad3c6c7dd",
   "metadata": {},
   "source": [
    "### 2.6. Berapa peluang seseorang tersebut adalah laki-laki, bila diketahui dia adalah perokok?"
   ]
  },
  {
   "cell_type": "markdown",
   "id": "ce9d222c-30ad-41b0-b978-0e7ae2b7a4b5",
   "metadata": {},
   "source": [
    "Menggunakan prinsip yang sama, maka peluang seseorang tersebut laki-laki bila diketahui dia adalah perokok, adalah 1- peluang_perempuan_bila_perokok. 1-0.42 = 0.58 atau 58%.\n",
    "\n",
    "Dapat dibuktikan sebagai berikut"
   ]
  },
  {
   "cell_type": "code",
   "execution_count": 93,
   "id": "a453f991-8950-4744-b403-8e017fcac4cd",
   "metadata": {},
   "outputs": [
    {
     "data": {
      "text/plain": [
       "159"
      ]
     },
     "execution_count": 93,
     "metadata": {},
     "output_type": "execute_result"
    }
   ],
   "source": [
    "n_laki2_dan_perokok = \\\n",
    "insurance.query(\"smoker == 'yes' & sex == 'male'\").sex.count()\n",
    "\n",
    "n_laki2_dan_perokok"
   ]
  },
  {
   "cell_type": "code",
   "execution_count": 94,
   "id": "9068f5f2-430f-40f0-9cb5-28542dc3502c",
   "metadata": {},
   "outputs": [
    {
     "data": {
      "text/plain": [
       "0.58"
      ]
     },
     "execution_count": 94,
     "metadata": {},
     "output_type": "execute_result"
    }
   ],
   "source": [
    "peluang_laki2_bila_perokok = n_laki2_dan_perokok/n_perokok\n",
    "\n",
    "peluang_laki2_bila_perokok.round(2)"
   ]
  },
  {
   "cell_type": "markdown",
   "id": "dda831b5-2f6f-4837-b537-6b8f5cf1b397",
   "metadata": {},
   "source": [
    "### 2.7. Bagaimana bentuk distribusi peluang besar tagihan dari tiap-tiap region?"
   ]
  },
  {
   "cell_type": "code",
   "execution_count": 95,
   "id": "59f43830-8f92-4cc0-9380-d45354fe28c8",
   "metadata": {},
   "outputs": [
    {
     "data": {
      "image/png": "[encoded data removed]",
      "text/plain": [
       "<Figure size 623.875x500 with 1 Axes>"
      ]
     },
     "metadata": {},
     "output_type": "display_data"
    }
   ],
   "source": [
    "(sns\n",
    " .displot(\n",
    "     insurance,\n",
    "     x='charges',\n",
    "     kind='kde',\n",
    "     hue='region',\n",
    "     )\n",
    ")\n",
    "\n",
    "plt.title('Distribusi Peluang Tagihan/ Charges di tiap-tiap Region')\n",
    "plt.tight_layout()\n",
    "plt.show()"
   ]
  },
  {
   "cell_type": "markdown",
   "id": "42f7c837-10d4-44ab-a607-194f8e9549d9",
   "metadata": {},
   "source": [
    "- Pada rentang charges di bawah 30,000, distribusi peluang setiap region relatif seimbang/mirip. Namun ketika nilai charges di atas 30,000 nilai peluang relatif berbeda satu sama lain region, terutama southeast region."
   ]
  },
  {
   "cell_type": "markdown",
   "id": "165910d8-ac90-4f62-8449-aced30145ac9",
   "metadata": {},
   "source": [
    "## 3. Analisa Variabel Kontinu"
   ]
  },
  {
   "cell_type": "markdown",
   "id": "a8f14208-1481-416a-a126-19f7aecb2054",
   "metadata": {},
   "source": [
    "### 3.1. Mana yang lebih mungkin terjadi?"
   ]
  },
  {
   "cell_type": "markdown",
   "id": "500dc88e-e0a3-448c-893e-3165cb7a8382",
   "metadata": {},
   "source": [
    "\"Kejadian yang Lebih mungkin terjadi\" adalah kejadian yang memiliki nilai peluang yang lebih besar dibandingkan kejadian lainnya. Untuk mendapatkan hal tersebut, maka dapat dilakukan perhitungan peluang masing-masing kejadian (a dan b), kemudian dibandingkan."
   ]
  },
  {
   "cell_type": "markdown",
   "id": "8e25de01-7682-4417-9cda-1b999c7a0b01",
   "metadata": {},
   "source": [
    "a. Seseorang dengan BMI di atas 25 mendapatkan tagihan kesehatan di atas 16.7k?"
   ]
  },
  {
   "cell_type": "markdown",
   "id": "bf742745-dc21-491e-8660-9433bf62098d",
   "metadata": {},
   "source": [
    "Ada dua kondisi berdasarkan kejadian a, yakni:\n",
    "- Seseorang dengan BMI>25\n",
    "- Seseorang dengan charges > 16.7k\n",
    "\n",
    "Maka, peluang seseorang dengan kondisi BMI > 25 mendapatkan tagihan di atas 16.7K adalah:"
   ]
  },
  {
   "cell_type": "code",
   "execution_count": 96,
   "id": "3272687d-d037-4657-87fb-06a3be733abb",
   "metadata": {},
   "outputs": [
    {
     "data": {
      "text/plain": [
       "1091"
      ]
     },
     "execution_count": 96,
     "metadata": {},
     "output_type": "execute_result"
    }
   ],
   "source": [
    "n_bmi_lebih25 = \\\n",
    "(insurance\n",
    " .query(\"bmi > 25\")\n",
    " .bmi\n",
    " .count()\n",
    ")\n",
    "\n",
    "n_bmi_lebih25"
   ]
  },
  {
   "cell_type": "code",
   "execution_count": 97,
   "id": "fe599340-8c2c-43f3-9cb4-1218e366d1fb",
   "metadata": {},
   "outputs": [
    {
     "data": {
      "text/plain": [
       "283"
      ]
     },
     "execution_count": 97,
     "metadata": {},
     "output_type": "execute_result"
    }
   ],
   "source": [
    "n_charges_diatas167k_bila_bmilebih25 = \\\n",
    "(insurance\n",
    " .query(\"charges > 16700 & bmi > 25\")\n",
    " .charges\n",
    " .count()\n",
    ")\n",
    "\n",
    "n_charges_diatas167k_bila_bmilebih25"
   ]
  },
  {
   "cell_type": "code",
   "execution_count": 98,
   "id": "4bbef8a4-9671-452e-bd59-181bf402858c",
   "metadata": {},
   "outputs": [
    {
     "ename": "NameError",
     "evalue": "name 'n_charges_diatas167k_bila_bmidiatas25' is not defined",
     "output_type": "error",
     "traceback": [
      "\u001b[0;31m---------------------------------------------------------------------------\u001b[0m",
      "\u001b[0;31mNameError\u001b[0m                                 Traceback (most recent call last)",
      "Cell \u001b[0;32mIn [98], line 2\u001b[0m\n\u001b[1;32m      1\u001b[0m peluang_bmilebih25_charges167k \u001b[38;5;241m=\u001b[39m \\\n\u001b[0;32m----> 2\u001b[0m \u001b[43mn_charges_diatas167k_bila_bmidiatas25\u001b[49m\u001b[38;5;241m/\u001b[39mn_bmi_kurangdari25\n\u001b[1;32m      4\u001b[0m \u001b[38;5;28mprint\u001b[39m(\u001b[38;5;124mf\u001b[39m\u001b[38;5;124m\"\"\"\u001b[39m\n\u001b[1;32m      5\u001b[0m \u001b[38;5;124m    Peluang seseorang dengan BMI di atas 25 mendapatkan tagihan\u001b[39m\n\u001b[1;32m      6\u001b[0m \u001b[38;5;124m    di atas 16.7k adalah sebesar \u001b[39m\u001b[38;5;132;01m{\u001b[39;00mpeluang_bmilebih25_charges167k\u001b[38;5;241m.\u001b[39mround(\u001b[38;5;241m2\u001b[39m)\u001b[38;5;241m*\u001b[39m\u001b[38;5;241m100\u001b[39m\u001b[38;5;132;01m}\u001b[39;00m\u001b[38;5;124m%\u001b[39m\u001b[38;5;124m\"\"\"\u001b[39m\n\u001b[1;32m      7\u001b[0m )\n",
      "\u001b[0;31mNameError\u001b[0m: name 'n_charges_diatas167k_bila_bmidiatas25' is not defined"
     ]
    }
   ],
   "source": [
    "peluang_bmilebih25_charges167k = \\\n",
    "n_charges_diatas167k_bila_bmidiatas25/n_bmi_kurangdari25\n",
    "\n",
    "print(f\"\"\"\n",
    "    Peluang seseorang dengan BMI di atas 25 mendapatkan tagihan\n",
    "    di atas 16.7k adalah sebesar {peluang_bmilebih25_charges167k.round(2)*100}%\"\"\"\n",
    ")"
   ]
  },
  {
   "cell_type": "markdown",
   "id": "0a3f9add-a535-43b8-b490-0f176860d2f6",
   "metadata": {},
   "source": [
    "b. Seseorang dengan BMI di bawah 25 mendapatkan tagihan kesehatan di atas 16.7k?"
   ]
  },
  {
   "cell_type": "code",
   "execution_count": 99,
   "id": "f6f7dd06-dab4-4844-8740-cda2d51b0630",
   "metadata": {},
   "outputs": [
    {
     "data": {
      "text/plain": [
       "245"
      ]
     },
     "execution_count": 99,
     "metadata": {},
     "output_type": "execute_result"
    }
   ],
   "source": [
    "n_bmi_kurang25 = \\\n",
    "(insurance\n",
    " .query(\"bmi < 25\")\n",
    " .bmi\n",
    " .count()\n",
    ")\n",
    "\n",
    "n_bmi_kurang25"
   ]
  },
  {
   "cell_type": "code",
   "execution_count": 100,
   "id": "d64e6b55-6d71-48c8-9453-523337d91009",
   "metadata": {},
   "outputs": [
    {
     "data": {
      "text/plain": [
       "51"
      ]
     },
     "execution_count": 100,
     "metadata": {},
     "output_type": "execute_result"
    }
   ],
   "source": [
    "n_charges_diatas167k_bila_bmikurang25 = \\\n",
    "(insurance\n",
    " .query(\"bmi < 25 & charges > 16700\")\n",
    " .charges\n",
    " .count()\n",
    ")\n",
    "\n",
    "n_charges_diatas167k_bila_bmikurang25"
   ]
  },
  {
   "cell_type": "code",
   "execution_count": 101,
   "id": "c6f34a9c-8860-4e6a-b0a3-bfb98ffb4cda",
   "metadata": {},
   "outputs": [
    {
     "name": "stdout",
     "output_type": "stream",
     "text": [
      "\n",
      "    Peluang seseorang dengan BMI di atas 25 mendapatkan tagihan\n",
      "    di atas 16.7k adalah sebesar 21.0%\n"
     ]
    }
   ],
   "source": [
    "peluang_bmikurang25_charges167k = \\\n",
    "n_charges_diatas167k_bila_bmikurang25/n_bmi_kurang25\n",
    "\n",
    "print(f\"\"\"\n",
    "    Peluang seseorang dengan BMI di atas 25 mendapatkan tagihan\n",
    "    di atas 16.7k adalah sebesar {peluang_bmikurang25_charges167k.round(2)*100}%\"\"\"\n",
    ")"
   ]
  },
  {
   "cell_type": "markdown",
   "id": "32cd106f-d92d-4c02-8a18-8ff817dc19c9",
   "metadata": {},
   "source": [
    "- Peluang kejadian a sebesar 26%, lebih besar dibandingkan peluang b 21%. Sehingga kejadian a, yakni **Seseorang dengan BMI di atas 25 lebih mungkin mendapatkan tagihan kesehatan sebesar 16.7k dibandingkan ketika BMI di bawah 25**"
   ]
  },
  {
   "cell_type": "markdown",
   "id": "9bcaa601-abc1-4d4e-a743-4b8a700524ec",
   "metadata": {},
   "source": [
    "### 3.2. Mana yang lebih mungkin terjadi?"
   ]
  },
  {
   "cell_type": "markdown",
   "id": "c644a8a9-7eb2-4176-b6bf-3f8d3d0f97e1",
   "metadata": {},
   "source": [
    "a. Seseorang perokok dengan BMI di atas 25 mendapatkan tagihan kesehatan di atas 16.7k?"
   ]
  },
  {
   "cell_type": "markdown",
   "id": "ca51f590-efab-4c11-b69e-849de1fdbefd",
   "metadata": {},
   "source": [
    "Terdapat tiga kondisi, yakni:\n",
    "- Perokok dan BMI di atas 25\n",
    "- Tagihan kesehatan 16.7k\n",
    "\n",
    "Sehingga perhitungan peluang dapat dilakukan sebagai berikut:\n"
   ]
  },
  {
   "cell_type": "code",
   "execution_count": 102,
   "id": "95cc91d9-0b16-4d35-9a36-b12d64baa728",
   "metadata": {},
   "outputs": [
    {
     "data": {
      "text/plain": [
       "219"
      ]
     },
     "execution_count": 102,
     "metadata": {},
     "output_type": "execute_result"
    }
   ],
   "source": [
    "n_perokok_bmilebih25 = \\\n",
    "(insurance\n",
    " .query(\"bmi>25 & smoker == 'yes'\")\n",
    " .bmi\n",
    " .count()\n",
    ")\n",
    "\n",
    "n_perokok_bmilebih25"
   ]
  },
  {
   "cell_type": "code",
   "execution_count": 103,
   "id": "ab39cbeb-f039-4cb4-a813-03caa5d8482c",
   "metadata": {},
   "outputs": [
    {
     "data": {
      "text/plain": [
       "215"
      ]
     },
     "execution_count": 103,
     "metadata": {},
     "output_type": "execute_result"
    }
   ],
   "source": [
    "n_perokok_bmilebih25_charges167k = \\\n",
    "(insurance\n",
    " .query(\"bmi>25 & smoker=='yes' & charges>16700\")\n",
    " .bmi\n",
    " .count()\n",
    ")\n",
    "\n",
    "n_perokok_bmilebih25_charges167k"
   ]
  },
  {
   "cell_type": "code",
   "execution_count": 104,
   "id": "a35414ae-76fa-4d1c-a910-8b52fb106c08",
   "metadata": {},
   "outputs": [
    {
     "name": "stdout",
     "output_type": "stream",
     "text": [
      "\n",
      "    Peluang seseorang dengan BMI di atas 25 mendapatkan tagihan\n",
      "    di atas 16.7k adalah sebesar 98.0%\n"
     ]
    }
   ],
   "source": [
    "peluang_perokok_bmilebih25_charges167k = \\\n",
    "n_perokok_bmilebih25_charges167k/n_perokok_bmilebih25\n",
    "\n",
    "\n",
    "print(f\"\"\"\n",
    "    Peluang seseorang dengan BMI di atas 25 mendapatkan tagihan\n",
    "    di atas 16.7k adalah sebesar {peluang_perokok_bmilebih25_charges167k.round(2)*100}%\"\"\"\n",
    ")"
   ]
  },
  {
   "cell_type": "markdown",
   "id": "c60a9e75-2f7c-4820-8e2e-3bb683cb9a6b",
   "metadata": {},
   "source": [
    "b. Seseorang non-perokok dengan BMI di atas 25 mendapatkan tagihan kesehatan di atas 16.7k?"
   ]
  },
  {
   "cell_type": "code",
   "execution_count": 105,
   "id": "364fee5c-b477-4e54-9ec1-387957e430f8",
   "metadata": {},
   "outputs": [
    {
     "data": {
      "text/plain": [
       "872"
      ]
     },
     "execution_count": 105,
     "metadata": {},
     "output_type": "execute_result"
    }
   ],
   "source": [
    "n_nonperokok_bmilebih25 = \\\n",
    "(insurance\n",
    " .query(\"bmi>25 & smoker == 'no'\")\n",
    " .bmi\n",
    " .count()\n",
    ")\n",
    "\n",
    "n_nonperokok_bmilebih25"
   ]
  },
  {
   "cell_type": "code",
   "execution_count": 106,
   "id": "f1f53566-2f6b-4ec5-8a43-af74295e4cd9",
   "metadata": {},
   "outputs": [
    {
     "data": {
      "text/plain": [
       "68"
      ]
     },
     "execution_count": 106,
     "metadata": {},
     "output_type": "execute_result"
    }
   ],
   "source": [
    "n_nonperokok_bmilebih25_charges167k = \\\n",
    "(insurance\n",
    " .query(\"bmi>25 & smoker=='no' & charges>16700\")\n",
    " .bmi\n",
    " .count()\n",
    ")\n",
    "\n",
    "n_nonperokok_bmilebih25_charges167k"
   ]
  },
  {
   "cell_type": "code",
   "execution_count": 107,
   "id": "39929611-5a53-4d17-b1fb-ec6a669fa595",
   "metadata": {},
   "outputs": [
    {
     "name": "stdout",
     "output_type": "stream",
     "text": [
      "\n",
      "    Peluang seseorang dengan BMI di atas 25 mendapatkan tagihan\n",
      "    di atas 16.7k adalah sebesar 8.0%\n"
     ]
    }
   ],
   "source": [
    "peluang_nonperokok_bmilebih25_charges167k = \\\n",
    "n_nonperokok_bmilebih25_charges167k/n_nonperokok_bmilebih25\n",
    "\n",
    "\n",
    "print(f\"\"\"\n",
    "    Peluang seseorang dengan BMI di atas 25 mendapatkan tagihan\n",
    "    di atas 16.7k adalah sebesar {peluang_nonperokok_bmilebih25_charges167k.round(2)*100}%\"\"\"\n",
    ")"
   ]
  },
  {
   "cell_type": "markdown",
   "id": "c74eb66c-4808-4b51-a302-4dce3b729d66",
   "metadata": {},
   "source": [
    "- Peluang seorang perokok dengan BMI di atas 25 mendapatkan tagihan di atas 16.7k adalah sebesar 98%. Sedangkan peluang non-perokok dengan BMI di atas 25 mendapatkan tagihan di atas 16.7k adalah sebesar 8%."
   ]
  },
  {
   "cell_type": "markdown",
   "id": "b1bb4022-96ad-4e1c-bad1-7782b8a54d8a",
   "metadata": {},
   "source": [
    "## 4. Analisa Korelasi Variabel"
   ]
  },
  {
   "cell_type": "markdown",
   "id": "92028763-6116-4d96-8205-e8f6242654c9",
   "metadata": {},
   "source": [
    "Analisa korelasi tagihan kesehatan dengan minimal 2 variabel lainnya."
   ]
  },
  {
   "cell_type": "markdown",
   "id": "73383af6-891d-4f28-b008-86b58c7bb339",
   "metadata": {},
   "source": [
    "Berdasarkan beragam variabel yang tersedia, penulis memutuskan untuk melihat hubungan tagihan/ charges dengan tiga variabel lain yakni:\n",
    "\n",
    "1. Hubungan charges dengan umur (age)\n",
    "2. HUbungan charges dengan status perokok/ non-perokok\n",
    "3. Hubungan charges dengan BMI/ kelas BMI\n",
    "\n",
    "\n",
    "Untuk mempermudah analisis, nilai BMI akan dikelompokkan berdasarkan tabel di bawah: https://www.cdc.gov/healthyweight/assessing/bmi/adult_bmi/index.html\n",
    "\n",
    "| BMI            | Weight Status  |\n",
    "|----------------|----------------|\n",
    "| Below 18.5     | Underweight    |\n",
    "| 18.5 – 24.9    | Healthy Weight |\n",
    "| 25.0 – 29.9    | Overweight     |\n",
    "| 30.0 and Above | Obesity        |\n",
    "\n"
   ]
  },
  {
   "cell_type": "code",
   "execution_count": 108,
   "id": "9a139537-3d1d-4033-9885-964a741dbd09",
   "metadata": {},
   "outputs": [
    {
     "data": {
      "text/html": [
       "<div>\n",
       "<style scoped>\n",
       "    .dataframe tbody tr th:only-of-type {\n",
       "        vertical-align: middle;\n",
       "    }\n",
       "\n",
       "    .dataframe tbody tr th {\n",
       "        vertical-align: top;\n",
       "    }\n",
       "\n",
       "    .dataframe thead th {\n",
       "        text-align: right;\n",
       "    }\n",
       "</style>\n",
       "<table border=\"1\" class=\"dataframe\">\n",
       "  <thead>\n",
       "    <tr style=\"text-align: right;\">\n",
       "      <th></th>\n",
       "      <th>age</th>\n",
       "      <th>sex</th>\n",
       "      <th>bmi</th>\n",
       "      <th>children</th>\n",
       "      <th>smoker</th>\n",
       "      <th>region</th>\n",
       "      <th>charges</th>\n",
       "      <th>bmi_class</th>\n",
       "    </tr>\n",
       "  </thead>\n",
       "  <tbody>\n",
       "    <tr>\n",
       "      <th>0</th>\n",
       "      <td>19</td>\n",
       "      <td>female</td>\n",
       "      <td>27.900</td>\n",
       "      <td>0</td>\n",
       "      <td>yes</td>\n",
       "      <td>southwest</td>\n",
       "      <td>16884.92400</td>\n",
       "      <td>overweight</td>\n",
       "    </tr>\n",
       "    <tr>\n",
       "      <th>1</th>\n",
       "      <td>18</td>\n",
       "      <td>male</td>\n",
       "      <td>33.770</td>\n",
       "      <td>1</td>\n",
       "      <td>no</td>\n",
       "      <td>southeast</td>\n",
       "      <td>1725.55230</td>\n",
       "      <td>obese</td>\n",
       "    </tr>\n",
       "    <tr>\n",
       "      <th>2</th>\n",
       "      <td>28</td>\n",
       "      <td>male</td>\n",
       "      <td>33.000</td>\n",
       "      <td>3</td>\n",
       "      <td>no</td>\n",
       "      <td>southeast</td>\n",
       "      <td>4449.46200</td>\n",
       "      <td>obese</td>\n",
       "    </tr>\n",
       "    <tr>\n",
       "      <th>3</th>\n",
       "      <td>33</td>\n",
       "      <td>male</td>\n",
       "      <td>22.705</td>\n",
       "      <td>0</td>\n",
       "      <td>no</td>\n",
       "      <td>northwest</td>\n",
       "      <td>21984.47061</td>\n",
       "      <td>healthy</td>\n",
       "    </tr>\n",
       "    <tr>\n",
       "      <th>4</th>\n",
       "      <td>32</td>\n",
       "      <td>male</td>\n",
       "      <td>28.880</td>\n",
       "      <td>0</td>\n",
       "      <td>no</td>\n",
       "      <td>northwest</td>\n",
       "      <td>3866.85520</td>\n",
       "      <td>overweight</td>\n",
       "    </tr>\n",
       "    <tr>\n",
       "      <th>...</th>\n",
       "      <td>...</td>\n",
       "      <td>...</td>\n",
       "      <td>...</td>\n",
       "      <td>...</td>\n",
       "      <td>...</td>\n",
       "      <td>...</td>\n",
       "      <td>...</td>\n",
       "      <td>...</td>\n",
       "    </tr>\n",
       "    <tr>\n",
       "      <th>1333</th>\n",
       "      <td>50</td>\n",
       "      <td>male</td>\n",
       "      <td>30.970</td>\n",
       "      <td>3</td>\n",
       "      <td>no</td>\n",
       "      <td>northwest</td>\n",
       "      <td>10600.54830</td>\n",
       "      <td>obese</td>\n",
       "    </tr>\n",
       "    <tr>\n",
       "      <th>1334</th>\n",
       "      <td>18</td>\n",
       "      <td>female</td>\n",
       "      <td>31.920</td>\n",
       "      <td>0</td>\n",
       "      <td>no</td>\n",
       "      <td>northeast</td>\n",
       "      <td>2205.98080</td>\n",
       "      <td>obese</td>\n",
       "    </tr>\n",
       "    <tr>\n",
       "      <th>1335</th>\n",
       "      <td>18</td>\n",
       "      <td>female</td>\n",
       "      <td>36.850</td>\n",
       "      <td>0</td>\n",
       "      <td>no</td>\n",
       "      <td>southeast</td>\n",
       "      <td>1629.83350</td>\n",
       "      <td>obese</td>\n",
       "    </tr>\n",
       "    <tr>\n",
       "      <th>1336</th>\n",
       "      <td>21</td>\n",
       "      <td>female</td>\n",
       "      <td>25.800</td>\n",
       "      <td>0</td>\n",
       "      <td>no</td>\n",
       "      <td>southwest</td>\n",
       "      <td>2007.94500</td>\n",
       "      <td>overweight</td>\n",
       "    </tr>\n",
       "    <tr>\n",
       "      <th>1337</th>\n",
       "      <td>61</td>\n",
       "      <td>female</td>\n",
       "      <td>29.070</td>\n",
       "      <td>0</td>\n",
       "      <td>yes</td>\n",
       "      <td>northwest</td>\n",
       "      <td>29141.36030</td>\n",
       "      <td>overweight</td>\n",
       "    </tr>\n",
       "  </tbody>\n",
       "</table>\n",
       "<p>1338 rows × 8 columns</p>\n",
       "</div>"
      ],
      "text/plain": [
       "      age     sex     bmi  children smoker     region      charges   bmi_class\n",
       "0      19  female  27.900         0    yes  southwest  16884.92400  overweight\n",
       "1      18    male  33.770         1     no  southeast   1725.55230       obese\n",
       "2      28    male  33.000         3     no  southeast   4449.46200       obese\n",
       "3      33    male  22.705         0     no  northwest  21984.47061     healthy\n",
       "4      32    male  28.880         0     no  northwest   3866.85520  overweight\n",
       "...   ...     ...     ...       ...    ...        ...          ...         ...\n",
       "1333   50    male  30.970         3     no  northwest  10600.54830       obese\n",
       "1334   18  female  31.920         0     no  northeast   2205.98080       obese\n",
       "1335   18  female  36.850         0     no  southeast   1629.83350       obese\n",
       "1336   21  female  25.800         0     no  southwest   2007.94500  overweight\n",
       "1337   61  female  29.070         0    yes  northwest  29141.36030  overweight\n",
       "\n",
       "[1338 rows x 8 columns]"
      ]
     },
     "execution_count": 108,
     "metadata": {},
     "output_type": "execute_result"
    }
   ],
   "source": [
    "#membuat kelas BMI dari data\n",
    "bins= [0,18.49,24.9,30,100] #setting up the group based on bmi bins \n",
    "\n",
    "labels = ['underweight','healthy','overweight','obese'] #setting up the label on each group\n",
    "\n",
    "insurance['bmi_class']= pd.cut(insurance['bmi'], bins=bins, labels=labels,include_lowest=False)\n",
    "\n",
    "insurance"
   ]
  },
  {
   "cell_type": "code",
   "execution_count": 109,
   "id": "c62c3073-85cb-4032-b7f3-8a17595d915b",
   "metadata": {},
   "outputs": [
    {
     "data": {
      "text/html": [
       "<style type=\"text/css\">\n",
       "#T_80c41_row0_col0, #T_80c41_row0_col1, #T_80c41_row0_col2, #T_80c41_row0_col5 {\n",
       "  background-color: #fff7fb;\n",
       "  color: #000000;\n",
       "}\n",
       "#T_80c41_row1_col0 {\n",
       "  background-color: #e0dded;\n",
       "  color: #000000;\n",
       "}\n",
       "#T_80c41_row1_col1 {\n",
       "  background-color: #dedcec;\n",
       "  color: #000000;\n",
       "}\n",
       "#T_80c41_row1_col2, #T_80c41_row1_col5 {\n",
       "  background-color: #c1cae2;\n",
       "  color: #000000;\n",
       "}\n",
       "#T_80c41_row2_col0 {\n",
       "  background-color: #2f8bbe;\n",
       "  color: #f1f1f1;\n",
       "}\n",
       "#T_80c41_row2_col1 {\n",
       "  background-color: #b4c4df;\n",
       "  color: #000000;\n",
       "}\n",
       "#T_80c41_row2_col2, #T_80c41_row2_col5 {\n",
       "  background-color: #60a1ca;\n",
       "  color: #f1f1f1;\n",
       "}\n",
       "#T_80c41_row3_col0, #T_80c41_row3_col1, #T_80c41_row3_col2, #T_80c41_row3_col5 {\n",
       "  background-color: #023858;\n",
       "  color: #f1f1f1;\n",
       "}\n",
       "</style>\n",
       "<table id=\"T_80c41\">\n",
       "  <thead>\n",
       "    <tr>\n",
       "      <th class=\"blank level0\" >&nbsp;</th>\n",
       "      <th id=\"T_80c41_level0_col0\" class=\"col_heading level0 col0\" colspan=\"3\">bmi</th>\n",
       "      <th id=\"T_80c41_level0_col3\" class=\"col_heading level0 col3\" colspan=\"3\">bmi_class</th>\n",
       "    </tr>\n",
       "    <tr>\n",
       "      <th class=\"blank level1\" >&nbsp;</th>\n",
       "      <th id=\"T_80c41_level1_col0\" class=\"col_heading level1 col0\" >min</th>\n",
       "      <th id=\"T_80c41_level1_col1\" class=\"col_heading level1 col1\" >max</th>\n",
       "      <th id=\"T_80c41_level1_col2\" class=\"col_heading level1 col2\" >count</th>\n",
       "      <th id=\"T_80c41_level1_col3\" class=\"col_heading level1 col3\" >min</th>\n",
       "      <th id=\"T_80c41_level1_col4\" class=\"col_heading level1 col4\" >max</th>\n",
       "      <th id=\"T_80c41_level1_col5\" class=\"col_heading level1 col5\" >count</th>\n",
       "    </tr>\n",
       "    <tr>\n",
       "      <th class=\"index_name level0\" >bmi_class</th>\n",
       "      <th class=\"blank col0\" >&nbsp;</th>\n",
       "      <th class=\"blank col1\" >&nbsp;</th>\n",
       "      <th class=\"blank col2\" >&nbsp;</th>\n",
       "      <th class=\"blank col3\" >&nbsp;</th>\n",
       "      <th class=\"blank col4\" >&nbsp;</th>\n",
       "      <th class=\"blank col5\" >&nbsp;</th>\n",
       "    </tr>\n",
       "  </thead>\n",
       "  <tbody>\n",
       "    <tr>\n",
       "      <th id=\"T_80c41_level0_row0\" class=\"row_heading level0 row0\" >underweight</th>\n",
       "      <td id=\"T_80c41_row0_col0\" class=\"data row0 col0\" >15.960000</td>\n",
       "      <td id=\"T_80c41_row0_col1\" class=\"data row0 col1\" >18.335000</td>\n",
       "      <td id=\"T_80c41_row0_col2\" class=\"data row0 col2\" >20</td>\n",
       "      <td id=\"T_80c41_row0_col3\" class=\"data row0 col3\" >underweight</td>\n",
       "      <td id=\"T_80c41_row0_col4\" class=\"data row0 col4\" >underweight</td>\n",
       "      <td id=\"T_80c41_row0_col5\" class=\"data row0 col5\" >20</td>\n",
       "    </tr>\n",
       "    <tr>\n",
       "      <th id=\"T_80c41_level0_row1\" class=\"row_heading level0 row1\" >healthy</th>\n",
       "      <td id=\"T_80c41_row1_col0\" class=\"data row1 col0\" >18.500000</td>\n",
       "      <td id=\"T_80c41_row1_col1\" class=\"data row1 col1\" >24.890000</td>\n",
       "      <td id=\"T_80c41_row1_col2\" class=\"data row1 col2\" >222</td>\n",
       "      <td id=\"T_80c41_row1_col3\" class=\"data row1 col3\" >healthy</td>\n",
       "      <td id=\"T_80c41_row1_col4\" class=\"data row1 col4\" >healthy</td>\n",
       "      <td id=\"T_80c41_row1_col5\" class=\"data row1 col5\" >222</td>\n",
       "    </tr>\n",
       "    <tr>\n",
       "      <th id=\"T_80c41_level0_row2\" class=\"row_heading level0 row2\" >overweight</th>\n",
       "      <td id=\"T_80c41_row2_col0\" class=\"data row2 col0\" >24.970000</td>\n",
       "      <td id=\"T_80c41_row2_col1\" class=\"data row2 col1\" >30.000000</td>\n",
       "      <td id=\"T_80c41_row2_col2\" class=\"data row2 col2\" >391</td>\n",
       "      <td id=\"T_80c41_row2_col3\" class=\"data row2 col3\" >overweight</td>\n",
       "      <td id=\"T_80c41_row2_col4\" class=\"data row2 col4\" >overweight</td>\n",
       "      <td id=\"T_80c41_row2_col5\" class=\"data row2 col5\" >391</td>\n",
       "    </tr>\n",
       "    <tr>\n",
       "      <th id=\"T_80c41_level0_row3\" class=\"row_heading level0 row3\" >obese</th>\n",
       "      <td id=\"T_80c41_row3_col0\" class=\"data row3 col0\" >30.020000</td>\n",
       "      <td id=\"T_80c41_row3_col1\" class=\"data row3 col1\" >53.130000</td>\n",
       "      <td id=\"T_80c41_row3_col2\" class=\"data row3 col2\" >705</td>\n",
       "      <td id=\"T_80c41_row3_col3\" class=\"data row3 col3\" >obese</td>\n",
       "      <td id=\"T_80c41_row3_col4\" class=\"data row3 col4\" >obese</td>\n",
       "      <td id=\"T_80c41_row3_col5\" class=\"data row3 col5\" >705</td>\n",
       "    </tr>\n",
       "  </tbody>\n",
       "</table>\n"
      ],
      "text/plain": [
       "<pandas.io.formats.style.Styler at 0x15aae58b0>"
      ]
     },
     "execution_count": 109,
     "metadata": {},
     "output_type": "execute_result"
    }
   ],
   "source": [
    "#sanity check on bmi_class\n",
    "\n",
    "(insurance\n",
    " .groupby('bmi_class')\n",
    " [['bmi', 'bmi_class']]\n",
    " .agg(['min', 'max', 'count'])\n",
    " .style.background_gradient()\n",
    " # .style.text_gradient()\n",
    ")"
   ]
  },
  {
   "cell_type": "code",
   "execution_count": 110,
   "id": "e8c5ae44-487b-4b65-84a6-ab1f51ba59b3",
   "metadata": {},
   "outputs": [
    {
     "data": {
      "image/png": "[encoded data removed]",
      "text/plain": [
       "<Figure size 1038.25x500 with 2 Axes>"
      ]
     },
     "metadata": {},
     "output_type": "display_data"
    }
   ],
   "source": [
    "g = (sns\n",
    ".relplot\n",
    " (data=insurance,\n",
    "  x='age',\n",
    "  y='charges',\n",
    "  hue='bmi_class',\n",
    "  size='bmi_class',\n",
    "  style='smoker',\n",
    "  # legend='full',\n",
    "  col='smoker',\n",
    "  # col_wrap=1,\n",
    "  # row='smoker',\n",
    "  height=5, \n",
    "  aspect=0.9,\n",
    "  markers=[\"8\",\"P\"],\n",
    "  s=300,\n",
    "  palette='tab10',\n",
    "  alpha=0.7,\n",
    "  size_order=['obese', 'overweight', 'healthy', 'underweight'],\n",
    " )\n",
    ");\n",
    "\n",
    "g.fig.text(0.7, 0.22, \"I\",\n",
    "   color=\"black\", fontdict=dict(size=20), fontweight='bold'\n",
    "          )\n",
    "\n",
    "g.fig.text(0.3, 0.4, \"II\",\n",
    "   color=\"black\", fontdict=dict(size=20), fontweight='bold'\n",
    "          )\n",
    "\n",
    "g.fig.text(0.3, 0.63, \"III\",\n",
    "   color=\"black\", fontdict=dict(size=20), fontweight='bold'\n",
    "          )\n",
    "\n",
    "g.fig.text(0.65, 0.4, \"I-a\",\n",
    "   color=\"black\", fontdict=dict(size=20), fontweight='bold'\n",
    "          )\n",
    "\n",
    "\n",
    "plt.suptitle('age vs charges | separated by smoker vs non-smoker', y = 1.05);"
   ]
  },
  {
   "cell_type": "code",
   "execution_count": null,
   "id": "610e4e72-66de-4498-9997-775942e82f88",
   "metadata": {},
   "outputs": [],
   "source": []
  },
  {
   "cell_type": "code",
   "execution_count": null,
   "id": "bd08c8e9-82c9-46eb-93db-1395966f5659",
   "metadata": {},
   "outputs": [],
   "source": [
    "(insurance\n",
    " .query(\"smoker=='yes' and bmi_class=='obese'\")\n",
    " .corr()\n",
    " .age\n",
    " .charges\n",
    ")"
   ]
  },
  {
   "cell_type": "code",
   "execution_count": 114,
   "id": "3a40d72e-2d86-48a2-beaf-c9c006e129b6",
   "metadata": {},
   "outputs": [
    {
     "data": {
      "image/png": "[encoded data removed]",
      "text/plain": [
       "<Figure size 582.944x500 with 1 Axes>"
      ]
     },
     "metadata": {},
     "output_type": "display_data"
    }
   ],
   "source": [
    "(sns\n",
    ".relplot\n",
    " (data=insurance,\n",
    "  x='bmi',\n",
    "  y='charges',\n",
    "  hue='smoker',\n",
    "  size='children',\n",
    "  # style='sex',\n",
    "  # legend='full',\n",
    "  # col='bmi_class',\n",
    "  # col_wrap=1,\n",
    "  # height=3.5, \n",
    "  # aspect=1,\n",
    "  markers=[\"8\",\"P\"],\n",
    "  palette='tab10',\n",
    "  size_order=[1,2,3,4,5,6]\n",
    " )\n",
    ");\n"
   ]
  },
  {
   "cell_type": "code",
   "execution_count": 135,
   "id": "a35e8901-75c8-4e89-9719-ef98d26a3007",
   "metadata": {},
   "outputs": [
    {
     "data": {
      "image/png": "[encoded data removed]",
      "text/plain": [
       "<Figure size 578.875x500 with 1 Axes>"
      ]
     },
     "metadata": {},
     "output_type": "display_data"
    }
   ],
   "source": [
    "sns.lmplot(data=insurance, x='bmi', y='charges', hue='smoker')"
   ]
  },
  {
   "cell_type": "code",
   "execution_count": 140,
   "id": "490590d8-0a16-473d-89e9-edd81e10d2b3",
   "metadata": {},
   "outputs": [
    {
     "name": "stderr",
     "output_type": "stream",
     "text": [
      "/var/folders/k3/rq3y45b92kbf6vtf128q_99r0000gn/T/ipykernel_51534/846027201.py:1: FutureWarning: The default value of numeric_only in DataFrame.corr is deprecated. In a future version, it will default to False. Select only valid columns or specify the value of numeric_only to silence this warning.\n",
      "  (insurance\n"
     ]
    },
    {
     "data": {
      "text/plain": [
       "0.8064806070155407"
      ]
     },
     "execution_count": 140,
     "metadata": {},
     "output_type": "execute_result"
    }
   ],
   "source": [
    "(insurance\n",
    " .query(\"smoker=='yes'\")\n",
    " .corr()\n",
    " .charges\n",
    " .bmi\n",
    ")"
   ]
  },
  {
   "cell_type": "code",
   "execution_count": 188,
   "id": "ecf8ce62-4a5f-42f5-bf57-a4ff541a11b1",
   "metadata": {},
   "outputs": [
    {
     "name": "stderr",
     "output_type": "stream",
     "text": [
      "/var/folders/k3/rq3y45b92kbf6vtf128q_99r0000gn/T/ipykernel_51534/3997426850.py:3: FutureWarning: The default value of numeric_only in DataFrame.corr is deprecated. In a future version, it will default to False. Select only valid columns or specify the value of numeric_only to silence this warning.\n",
      "  (insurance\n"
     ]
    },
    {
     "data": {
      "image/png": "[encoded data removed]",
      "text/plain": [
       "<Figure size 500x500 with 1 Axes>"
      ]
     },
     "metadata": {},
     "output_type": "display_data"
    }
   ],
   "source": [
    "#calculating the correlation coefficient\n",
    "corr = \\\n",
    "(insurance\n",
    " .corr()\n",
    " .charges\n",
    " .bmi\n",
    ")\n",
    "\n",
    "#plotting linear regression\n",
    "(sns.\n",
    " lmplot(\n",
    "     data=insurance, \n",
    "     x='bmi', \n",
    "     y='charges',\n",
    " )\n",
    ")\n",
    "\n",
    "plt.title(f\"BMI vs Charges\\nCorrelation: {corr:.2f}\");"
   ]
  },
  {
   "cell_type": "code",
   "execution_count": 163,
   "id": "a1daa396-7a6f-4682-ab60-dab0179e5777",
   "metadata": {},
   "outputs": [
    {
     "name": "stderr",
     "output_type": "stream",
     "text": [
      "/var/folders/k3/rq3y45b92kbf6vtf128q_99r0000gn/T/ipykernel_51534/433143945.py:1: FutureWarning: The default value of numeric_only in DataFrame.corr is deprecated. In a future version, it will default to False. Select only valid columns or specify the value of numeric_only to silence this warning.\n",
      "  (insurance\n"
     ]
    },
    {
     "data": {
      "text/plain": [
       "0.19834096883362903"
      ]
     },
     "execution_count": 163,
     "metadata": {},
     "output_type": "execute_result"
    }
   ],
   "source": [
    "(insurance\n",
    " .corr()\n",
    " .charges\n",
    " .bmi\n",
    ")"
   ]
  },
  {
   "cell_type": "code",
   "execution_count": null,
   "id": "3860f0cf-8ea4-453b-9414-8ec89e3f0d48",
   "metadata": {},
   "outputs": [],
   "source": []
  },
  {
   "cell_type": "markdown",
   "id": "1a6bad4c-40ea-4320-a4f6-8a38e7ae969d",
   "metadata": {},
   "source": [
    "Berdasarkan grafik di atas, dapat dengan jelas ditarik kesimpulan sebagai berikut:\n",
    "\n",
    "1. Terdapat korelasi yang kuat antara umur dan tagihan kesehatan seseorang. Semakin tua seseorang, akan semakin besar tagihan kesehatannya. \n",
    "\n",
    "2. Selain umur, faktor utama yang sangat berpengaruh adalah apakah seseorang tersebut perokok atau non-perokok. Dapat dilihat pada grafik di atas, bahwa terdapat dua tren tagihan yang lebih tinggi (grup II dan III) pada kelas perokok, dibandingkan kelas non-perokok yang jauh lebih rendah tagihannya.\n",
    "\n",
    "3. Faktor kedua yang juga berpengaruh adalah berat badan. Seorang perokok dengan kelas BMI obese memiliki kecenderungan tagihan kesehatan yang lebih tinggi dibandingkan yang healthy. Namun BMI hanya akan berpengaruh cukup besar, ketika seseorang adalah perokok, bila non-perokok meskipun BMI nya obese, tagihannya akan relatif lebih rendah.\n",
    "\n",
    "Tiga group/ kelas di atas (I, II, III) menggambarkan tren masing-masing grup tagihan kesehatan berdasarkan profil risiko mereka:\n",
    "\n",
    "- Grup I: non-perokok, tagihan sekitar 1k-16k\n",
    "> *Grup I-a: non-perokok, namun tagihan 16k-30k\n",
    "- Grup II: perokok & BMI class health-overweight, tagihan sekitar 16k-30k\n",
    "- Grup III: perokok dan BMI class obese, tagihan di atas 30k\n",
    "\n",
    "\n",
    "_*Grup I-a ini termasuk outlier, yang masih belum bisa dijelaskan. Karena profil risikonya serupa dengan grup I, namun tagihannya berbeda dan lebih dekat dengan tagihan grup II_.\n",
    "\n",
    "Untuk mempermudah ilustrasi, di bawah adalah pembagian profil risiko masing-masing pengguna ke dalam grup-grup tertentu."
   ]
  },
  {
   "cell_type": "markdown",
   "id": "bb14c929-6ad5-41e0-9856-c0a1cd1a6223",
   "metadata": {},
   "source": [
    "![Diagram](diagram.png)"
   ]
  },
  {
   "cell_type": "markdown",
   "id": "8c70e100-d55b-42fa-ac80-ae56cd266b51",
   "metadata": {},
   "source": [
    "## 5. Pengujian Hipotesis"
   ]
  },
  {
   "cell_type": "markdown",
   "id": "933be641-5d2c-426e-9923-69415668c253",
   "metadata": {},
   "source": [
    "### 5.1. Apakah Tagihan kesehatan perokok lebih tinggi daripada tagihan kesehatan non-perokok?"
   ]
  },
  {
   "cell_type": "markdown",
   "id": "637e0252-7642-4f79-8365-4e5ee6e8d4c2",
   "metadata": {},
   "source": [
    "Pengujian hipotesis menggunakan uji statistik. Pada 5.1., ada dua kejadian berupa:\n",
    "1. Hipotesis:\n",
    "- H0: tagihan kesehatan perokok lebih kecil/ sama dengan tagihan kesehatan non-perokok\n",
    "- H1: tagihan kesehatan perokok lebih besar daripada tagihan kesehatan non-perokok\n",
    "\n",
    "Berdasarkan hipotesis di atas, ini termasuk dalam **right-tailed/ upper-tailed test**.\n",
    "\n",
    "2. Uji statistik:\n",
    "Karena data insurance ini merupakan subset dari suatu populasi (tidak mungkin memiliki data dari semua orang perokok dan tagihan kesehatannya), maka yang digunakan adalah **t-test**.\n",
    "\n",
    "3. Confidence Level diset di angka 95%, sehingga alpha=0.05\n",
    "\n",
    "Sehingga:\n",
    "- Null Hypothesis: H0: μ tagihan perokok ≤ μ tagihan non-perokok\n",
    "- Alternative Hypothesis: H1: μ tagihan perokok > μ tagihan non-perokok\n",
    "- Significance level: α=0.05\n",
    "- Uji Pihak Kanan, stats uji  >  nilai kritis ; tolak h0\n",
    "atau\n",
    "- Untuk semua uji, pvalue < alpha ; tolak h0"
   ]
  },
  {
   "cell_type": "code",
   "execution_count": null,
   "id": "e189b934-7e50-4623-af9e-e2656f15327b",
   "metadata": {},
   "outputs": [],
   "source": [
    "tagihan_perokok = insurance.query(\"smoker =='yes'\").charges\n",
    "tagihan_nonperokok = insurance.query(\"smoker =='no'\").charges"
   ]
  },
  {
   "cell_type": "code",
   "execution_count": null,
   "id": "8aa91c71-0d72-44d5-9ff2-5e826ffbc5d1",
   "metadata": {},
   "outputs": [
    {
     "data": {
      "text/plain": [
       "False"
      ]
     },
     "execution_count": null,
     "metadata": {},
     "output_type": "execute_result"
    }
   ],
   "source": [
    "tagihan_perokok.var() == tagihan_nonperokok.var() "
   ]
  },
  {
   "cell_type": "code",
   "execution_count": null,
   "id": "c3572145-bf13-4815-b2b9-7f41bba81ed2",
   "metadata": {},
   "outputs": [
    {
     "name": "stdout",
     "output_type": "stream",
     "text": [
      "Statistics = 32.7519, p-value = 0.0000\n"
     ]
    }
   ],
   "source": [
    "from scipy.stats import ttest_ind\n",
    "\n",
    "alpha=0.05\n",
    "\n",
    "stat, p = ttest_ind(\n",
    "    a = tagihan_perokok, \n",
    "    b = tagihan_nonperokok, \n",
    "    equal_var=False, \n",
    "    alternative='greater'\n",
    ") # eaual_var= False karena varians kedua populasi berbeda\n",
    "\n",
    "# Interpretasi Hasil\n",
    "print('Statistics = %.4f, p-value = %.4f' % (stat, p)) "
   ]
  },
  {
   "cell_type": "code",
   "execution_count": null,
   "id": "aa18f908-4d31-4aaa-a993-4533efc7f287",
   "metadata": {},
   "outputs": [
    {
     "name": "stdout",
     "output_type": "stream",
     "text": [
      "Tolak H0: Tagihan Perokok lebih besar daripada Non-Perokok\n"
     ]
    }
   ],
   "source": [
    "# Pengambilan Keputusan\n",
    "if p > alpha:\n",
    "    print('Terima H0: Tagihan Perokok lebih kecil/sama dengan Non-Perokok') \n",
    "else:\n",
    "    print('Tolak H0: Tagihan Perokok lebih besar daripada Non-Perokok')"
   ]
  },
  {
   "cell_type": "markdown",
   "id": "5b861dfa-5971-40dc-a83b-6665cc672623",
   "metadata": {},
   "source": [
    "> Secara statisik, tagihan perokok adalah **lebih besar** daripada non-perokok"
   ]
  },
  {
   "cell_type": "markdown",
   "id": "b88aa06e-cbf0-46cb-a6e9-a806e9838c6b",
   "metadata": {},
   "source": [
    "### 5.2. Apakah Proporsi perokok laki-laki lebih besar dari perempuan?"
   ]
  },
  {
   "cell_type": "markdown",
   "id": "31f21dfe-dd1b-407b-bbfd-84239d37790f",
   "metadata": {},
   "source": [
    "1. Menentukan hipotesis:\n",
    "- H0: proporsi perokok laki-laki $\\leq$ perempuan\n",
    "- H1: proporsi perokok laki-laki $>$ perempuan\n",
    "\n",
    "\n"
   ]
  },
  {
   "cell_type": "code",
   "execution_count": null,
   "id": "edb2e69b-4d5c-4e05-80cc-852bd050f53c",
   "metadata": {},
   "outputs": [
    {
     "data": {
      "text/html": [
       "<div>\n",
       "<style scoped>\n",
       "    .dataframe tbody tr th:only-of-type {\n",
       "        vertical-align: middle;\n",
       "    }\n",
       "\n",
       "    .dataframe tbody tr th {\n",
       "        vertical-align: top;\n",
       "    }\n",
       "\n",
       "    .dataframe thead th {\n",
       "        text-align: right;\n",
       "    }\n",
       "</style>\n",
       "<table border=\"1\" class=\"dataframe\">\n",
       "  <thead>\n",
       "    <tr style=\"text-align: right;\">\n",
       "      <th></th>\n",
       "      <th>age</th>\n",
       "      <th>sex</th>\n",
       "      <th>bmi</th>\n",
       "      <th>children</th>\n",
       "      <th>smoker</th>\n",
       "      <th>region</th>\n",
       "      <th>charges</th>\n",
       "      <th>bmi_class</th>\n",
       "    </tr>\n",
       "  </thead>\n",
       "  <tbody>\n",
       "    <tr>\n",
       "      <th>0</th>\n",
       "      <td>19</td>\n",
       "      <td>female</td>\n",
       "      <td>27.900</td>\n",
       "      <td>0</td>\n",
       "      <td>yes</td>\n",
       "      <td>southwest</td>\n",
       "      <td>16884.92400</td>\n",
       "      <td>overweight</td>\n",
       "    </tr>\n",
       "    <tr>\n",
       "      <th>11</th>\n",
       "      <td>62</td>\n",
       "      <td>female</td>\n",
       "      <td>26.290</td>\n",
       "      <td>0</td>\n",
       "      <td>yes</td>\n",
       "      <td>southeast</td>\n",
       "      <td>27808.72510</td>\n",
       "      <td>overweight</td>\n",
       "    </tr>\n",
       "    <tr>\n",
       "      <th>14</th>\n",
       "      <td>27</td>\n",
       "      <td>male</td>\n",
       "      <td>42.130</td>\n",
       "      <td>0</td>\n",
       "      <td>yes</td>\n",
       "      <td>southeast</td>\n",
       "      <td>39611.75770</td>\n",
       "      <td>obese</td>\n",
       "    </tr>\n",
       "    <tr>\n",
       "      <th>19</th>\n",
       "      <td>30</td>\n",
       "      <td>male</td>\n",
       "      <td>35.300</td>\n",
       "      <td>0</td>\n",
       "      <td>yes</td>\n",
       "      <td>southwest</td>\n",
       "      <td>36837.46700</td>\n",
       "      <td>obese</td>\n",
       "    </tr>\n",
       "    <tr>\n",
       "      <th>23</th>\n",
       "      <td>34</td>\n",
       "      <td>female</td>\n",
       "      <td>31.920</td>\n",
       "      <td>1</td>\n",
       "      <td>yes</td>\n",
       "      <td>northeast</td>\n",
       "      <td>37701.87680</td>\n",
       "      <td>obese</td>\n",
       "    </tr>\n",
       "    <tr>\n",
       "      <th>...</th>\n",
       "      <td>...</td>\n",
       "      <td>...</td>\n",
       "      <td>...</td>\n",
       "      <td>...</td>\n",
       "      <td>...</td>\n",
       "      <td>...</td>\n",
       "      <td>...</td>\n",
       "      <td>...</td>\n",
       "    </tr>\n",
       "    <tr>\n",
       "      <th>1313</th>\n",
       "      <td>19</td>\n",
       "      <td>female</td>\n",
       "      <td>34.700</td>\n",
       "      <td>2</td>\n",
       "      <td>yes</td>\n",
       "      <td>southwest</td>\n",
       "      <td>36397.57600</td>\n",
       "      <td>obese</td>\n",
       "    </tr>\n",
       "    <tr>\n",
       "      <th>1314</th>\n",
       "      <td>30</td>\n",
       "      <td>female</td>\n",
       "      <td>23.655</td>\n",
       "      <td>3</td>\n",
       "      <td>yes</td>\n",
       "      <td>northwest</td>\n",
       "      <td>18765.87545</td>\n",
       "      <td>healthy</td>\n",
       "    </tr>\n",
       "    <tr>\n",
       "      <th>1321</th>\n",
       "      <td>62</td>\n",
       "      <td>male</td>\n",
       "      <td>26.695</td>\n",
       "      <td>0</td>\n",
       "      <td>yes</td>\n",
       "      <td>northeast</td>\n",
       "      <td>28101.33305</td>\n",
       "      <td>overweight</td>\n",
       "    </tr>\n",
       "    <tr>\n",
       "      <th>1323</th>\n",
       "      <td>42</td>\n",
       "      <td>female</td>\n",
       "      <td>40.370</td>\n",
       "      <td>2</td>\n",
       "      <td>yes</td>\n",
       "      <td>southeast</td>\n",
       "      <td>43896.37630</td>\n",
       "      <td>obese</td>\n",
       "    </tr>\n",
       "    <tr>\n",
       "      <th>1337</th>\n",
       "      <td>61</td>\n",
       "      <td>female</td>\n",
       "      <td>29.070</td>\n",
       "      <td>0</td>\n",
       "      <td>yes</td>\n",
       "      <td>northwest</td>\n",
       "      <td>29141.36030</td>\n",
       "      <td>overweight</td>\n",
       "    </tr>\n",
       "  </tbody>\n",
       "</table>\n",
       "<p>274 rows × 8 columns</p>\n",
       "</div>"
      ],
      "text/plain": [
       "      age     sex     bmi  children smoker     region      charges   bmi_class\n",
       "0      19  female  27.900         0    yes  southwest  16884.92400  overweight\n",
       "11     62  female  26.290         0    yes  southeast  27808.72510  overweight\n",
       "14     27    male  42.130         0    yes  southeast  39611.75770       obese\n",
       "19     30    male  35.300         0    yes  southwest  36837.46700       obese\n",
       "23     34  female  31.920         1    yes  northeast  37701.87680       obese\n",
       "...   ...     ...     ...       ...    ...        ...          ...         ...\n",
       "1313   19  female  34.700         2    yes  southwest  36397.57600       obese\n",
       "1314   30  female  23.655         3    yes  northwest  18765.87545     healthy\n",
       "1321   62    male  26.695         0    yes  northeast  28101.33305  overweight\n",
       "1323   42  female  40.370         2    yes  southeast  43896.37630       obese\n",
       "1337   61  female  29.070         0    yes  northwest  29141.36030  overweight\n",
       "\n",
       "[274 rows x 8 columns]"
      ]
     },
     "execution_count": null,
     "metadata": {},
     "output_type": "execute_result"
    }
   ],
   "source": [
    "jumlah_perokok = insurance.query(\"smoker == 'yes'\")\n",
    "jumlah_perokok\n"
   ]
  },
  {
   "cell_type": "code",
   "execution_count": null,
   "id": "db229087-8cb6-4d2f-b526-05a7f2a85dae",
   "metadata": {},
   "outputs": [
    {
     "data": {
      "text/html": [
       "<div>\n",
       "<style scoped>\n",
       "    .dataframe tbody tr th:only-of-type {\n",
       "        vertical-align: middle;\n",
       "    }\n",
       "\n",
       "    .dataframe tbody tr th {\n",
       "        vertical-align: top;\n",
       "    }\n",
       "\n",
       "    .dataframe thead th {\n",
       "        text-align: right;\n",
       "    }\n",
       "</style>\n",
       "<table border=\"1\" class=\"dataframe\">\n",
       "  <thead>\n",
       "    <tr style=\"text-align: right;\">\n",
       "      <th></th>\n",
       "      <th>age</th>\n",
       "      <th>sex</th>\n",
       "      <th>bmi</th>\n",
       "      <th>children</th>\n",
       "      <th>smoker</th>\n",
       "      <th>region</th>\n",
       "      <th>charges</th>\n",
       "      <th>bmi_class</th>\n",
       "    </tr>\n",
       "  </thead>\n",
       "  <tbody>\n",
       "    <tr>\n",
       "      <th>14</th>\n",
       "      <td>27</td>\n",
       "      <td>male</td>\n",
       "      <td>42.130</td>\n",
       "      <td>0</td>\n",
       "      <td>yes</td>\n",
       "      <td>southeast</td>\n",
       "      <td>39611.75770</td>\n",
       "      <td>obese</td>\n",
       "    </tr>\n",
       "    <tr>\n",
       "      <th>19</th>\n",
       "      <td>30</td>\n",
       "      <td>male</td>\n",
       "      <td>35.300</td>\n",
       "      <td>0</td>\n",
       "      <td>yes</td>\n",
       "      <td>southwest</td>\n",
       "      <td>36837.46700</td>\n",
       "      <td>obese</td>\n",
       "    </tr>\n",
       "    <tr>\n",
       "      <th>29</th>\n",
       "      <td>31</td>\n",
       "      <td>male</td>\n",
       "      <td>36.300</td>\n",
       "      <td>2</td>\n",
       "      <td>yes</td>\n",
       "      <td>southwest</td>\n",
       "      <td>38711.00000</td>\n",
       "      <td>obese</td>\n",
       "    </tr>\n",
       "    <tr>\n",
       "      <th>30</th>\n",
       "      <td>22</td>\n",
       "      <td>male</td>\n",
       "      <td>35.600</td>\n",
       "      <td>0</td>\n",
       "      <td>yes</td>\n",
       "      <td>southwest</td>\n",
       "      <td>35585.57600</td>\n",
       "      <td>obese</td>\n",
       "    </tr>\n",
       "    <tr>\n",
       "      <th>34</th>\n",
       "      <td>28</td>\n",
       "      <td>male</td>\n",
       "      <td>36.400</td>\n",
       "      <td>1</td>\n",
       "      <td>yes</td>\n",
       "      <td>southwest</td>\n",
       "      <td>51194.55914</td>\n",
       "      <td>obese</td>\n",
       "    </tr>\n",
       "    <tr>\n",
       "      <th>...</th>\n",
       "      <td>...</td>\n",
       "      <td>...</td>\n",
       "      <td>...</td>\n",
       "      <td>...</td>\n",
       "      <td>...</td>\n",
       "      <td>...</td>\n",
       "      <td>...</td>\n",
       "      <td>...</td>\n",
       "    </tr>\n",
       "    <tr>\n",
       "      <th>1301</th>\n",
       "      <td>62</td>\n",
       "      <td>male</td>\n",
       "      <td>30.875</td>\n",
       "      <td>3</td>\n",
       "      <td>yes</td>\n",
       "      <td>northwest</td>\n",
       "      <td>46718.16325</td>\n",
       "      <td>obese</td>\n",
       "    </tr>\n",
       "    <tr>\n",
       "      <th>1303</th>\n",
       "      <td>43</td>\n",
       "      <td>male</td>\n",
       "      <td>27.800</td>\n",
       "      <td>0</td>\n",
       "      <td>yes</td>\n",
       "      <td>southwest</td>\n",
       "      <td>37829.72420</td>\n",
       "      <td>overweight</td>\n",
       "    </tr>\n",
       "    <tr>\n",
       "      <th>1304</th>\n",
       "      <td>42</td>\n",
       "      <td>male</td>\n",
       "      <td>24.605</td>\n",
       "      <td>2</td>\n",
       "      <td>yes</td>\n",
       "      <td>northeast</td>\n",
       "      <td>21259.37795</td>\n",
       "      <td>healthy</td>\n",
       "    </tr>\n",
       "    <tr>\n",
       "      <th>1307</th>\n",
       "      <td>32</td>\n",
       "      <td>male</td>\n",
       "      <td>28.120</td>\n",
       "      <td>4</td>\n",
       "      <td>yes</td>\n",
       "      <td>northwest</td>\n",
       "      <td>21472.47880</td>\n",
       "      <td>overweight</td>\n",
       "    </tr>\n",
       "    <tr>\n",
       "      <th>1321</th>\n",
       "      <td>62</td>\n",
       "      <td>male</td>\n",
       "      <td>26.695</td>\n",
       "      <td>0</td>\n",
       "      <td>yes</td>\n",
       "      <td>northeast</td>\n",
       "      <td>28101.33305</td>\n",
       "      <td>overweight</td>\n",
       "    </tr>\n",
       "  </tbody>\n",
       "</table>\n",
       "<p>159 rows × 8 columns</p>\n",
       "</div>"
      ],
      "text/plain": [
       "      age   sex     bmi  children smoker     region      charges   bmi_class\n",
       "14     27  male  42.130         0    yes  southeast  39611.75770       obese\n",
       "19     30  male  35.300         0    yes  southwest  36837.46700       obese\n",
       "29     31  male  36.300         2    yes  southwest  38711.00000       obese\n",
       "30     22  male  35.600         0    yes  southwest  35585.57600       obese\n",
       "34     28  male  36.400         1    yes  southwest  51194.55914       obese\n",
       "...   ...   ...     ...       ...    ...        ...          ...         ...\n",
       "1301   62  male  30.875         3    yes  northwest  46718.16325       obese\n",
       "1303   43  male  27.800         0    yes  southwest  37829.72420  overweight\n",
       "1304   42  male  24.605         2    yes  northeast  21259.37795     healthy\n",
       "1307   32  male  28.120         4    yes  northwest  21472.47880  overweight\n",
       "1321   62  male  26.695         0    yes  northeast  28101.33305  overweight\n",
       "\n",
       "[159 rows x 8 columns]"
      ]
     },
     "execution_count": null,
     "metadata": {},
     "output_type": "execute_result"
    }
   ],
   "source": [
    "jumlah_perokok_laki2 = jumlah_perokok.query(\"sex == 'male'\")\n",
    "jumlah_perokok_laki2"
   ]
  },
  {
   "cell_type": "code",
   "execution_count": null,
   "id": "a70b5847-402a-4b01-ac95-1165041ccab1",
   "metadata": {},
   "outputs": [
    {
     "data": {
      "text/plain": [
       "0.5802919708029197"
      ]
     },
     "execution_count": null,
     "metadata": {},
     "output_type": "execute_result"
    }
   ],
   "source": [
    "proporsi_perokok_laki2 = len(jumlah_perokok_laki2)/len(jumlah_perokok)\n",
    "proporsi_perokok_laki2"
   ]
  },
  {
   "cell_type": "code",
   "execution_count": null,
   "id": "3d3218aa-a274-4dbc-958b-3cd2321f4ef7",
   "metadata": {},
   "outputs": [
    {
     "data": {
      "text/plain": [
       "0.4197080291970803"
      ]
     },
     "execution_count": null,
     "metadata": {},
     "output_type": "execute_result"
    }
   ],
   "source": [
    "proporsi_perokok_perempuan = 1-proporsi_perokok_laki2\n",
    "proporsi_perokok_perempuan\n"
   ]
  },
  {
   "cell_type": "code",
   "execution_count": null,
   "id": "f9b97eac-1903-4dea-96ee-22d9d307f7fc",
   "metadata": {},
   "outputs": [],
   "source": [
    "import scipy.stats as stats\n",
    "import math\n",
    "\n",
    "# Menentukan jumlah kejadian ukuran sampel (n), \n",
    "# proporsi pada null hypothesis, dan proporsi sample\n",
    "n = len(insurance)\n",
    "p = proporsi_perokok_laki2\n",
    "p_hat = proporsi_perokok_laki2+0.01"
   ]
  },
  {
   "cell_type": "code",
   "execution_count": null,
   "id": "8d126df2-b329-4430-984a-51e123983042",
   "metadata": {},
   "outputs": [
    {
     "name": "stdout",
     "output_type": "stream",
     "text": [
      "0.7411927066451223\n"
     ]
    }
   ],
   "source": [
    "# Hitung uji statistik\n",
    "test_stat=(p_hat-p)/(math.sqrt((p*(1-p))/(n)))\n",
    "print(test_stat)"
   ]
  },
  {
   "cell_type": "code",
   "execution_count": null,
   "id": "2069319c-4c19-4db7-b874-e94113c6d499",
   "metadata": {},
   "outputs": [
    {
     "name": "stdout",
     "output_type": "stream",
     "text": [
      "1.6448536269514722\n"
     ]
    }
   ],
   "source": [
    "# Nilai Critical Value berdasarkan critical Z-value dari Z-table dengan nilai alpha 0.05\n",
    "#Import package\n",
    "import scipy.stats as stats\n",
    "z_crit=stats.norm.ppf(1-0.05)  # right-tailed test\n",
    "print(z_crit)"
   ]
  },
  {
   "cell_type": "code",
   "execution_count": null,
   "id": "9718613c-5154-4ddb-a18c-f5e1f2e29ebd",
   "metadata": {},
   "outputs": [
    {
     "name": "stdout",
     "output_type": "stream",
     "text": [
      "Gagal tolak null hypothesis\n"
     ]
    }
   ],
   "source": [
    "# Menentukan aturan keputusan\n",
    "if test_stat>z_crit:\n",
    "    print(\"Tolak null hypothesis\")\n",
    "else:\n",
    "    print(\"Gagal tolak null hypothesis\")"
   ]
  },
  {
   "cell_type": "markdown",
   "id": "d56dddae-70ed-4613-81cc-857fc701db45",
   "metadata": {},
   "source": [
    "Secara statistik, hasil menunjukkan gagal untuk menolak H0, sehingga secara statistik proporsi perokok laki-laki adalah lebih besar daripada perempuan."
   ]
  },
  {
   "cell_type": "markdown",
   "id": "2efaf485-d52f-4bd9-b2d4-5f400be798d3",
   "metadata": {},
   "source": [
    "### 5.3. Apakah Variansi tagihan kesehatan perokok dan non-perokok sama?"
   ]
  },
  {
   "cell_type": "code",
   "execution_count": null,
   "id": "2c7b1903-4f6f-4706-81c2-001957014af5",
   "metadata": {},
   "outputs": [
    {
     "data": {
      "text/plain": [
       "smoker\n",
       "no      35925420.0\n",
       "yes    133207311.0\n",
       "Name: charges, dtype: float64"
      ]
     },
     "execution_count": null,
     "metadata": {},
     "output_type": "execute_result"
    }
   ],
   "source": [
    "insurance.groupby('smoker').charges.var().round()"
   ]
  },
  {
   "cell_type": "markdown",
   "id": "4d6fd08f-3da8-4ad8-a6af-9be1359557ab",
   "metadata": {},
   "source": [
    "Hipotesis:\n",
    "- H0 : Tagihan kesehatan perokok dan non-perokok sama\n",
    "- H1 : Tagihan kesehatan perokok dan non-perokok tidak sama"
   ]
  },
  {
   "cell_type": "code",
   "execution_count": null,
   "id": "34b4a973-a909-4ca8-9dbd-c6ae645efc50",
   "metadata": {},
   "outputs": [
    {
     "name": "stdout",
     "output_type": "stream",
     "text": [
      "360.5829647660657\n"
     ]
    }
   ],
   "source": [
    "import scipy.stats as stats\n",
    "import math\n",
    "\n",
    "# Menentukan sampel terbesar dan sampel terkecil\n",
    "n = insurance.charges.count()\n",
    "s = insurance.query(\"smoker=='yes'\").charges.std()\n",
    "sd = insurance.query(\"smoker=='no'\").charges.std()\n",
    "\n",
    "# Hitung uji statistik\n",
    "chi_square = ((n-1)*(sd**2))/(s**2)\n",
    "print(chi_square)"
   ]
  },
  {
   "cell_type": "code",
   "execution_count": null,
   "id": "34849304-64c7-42d6-8a3a-fab3f7dc5318",
   "metadata": {},
   "outputs": [
    {
     "name": "stdout",
     "output_type": "stream",
     "text": [
      "1253.0955250731236\n"
     ]
    }
   ],
   "source": [
    "# Nilai Critical Value berdasarkan critical f-value dari f-table dengan nilai alpha 0.05\n",
    "import scipy.stats as stats\n",
    "chi2_crit=stats.chi2.ppf(0.05, n-1)\n",
    "print(chi2_crit)"
   ]
  },
  {
   "cell_type": "code",
   "execution_count": null,
   "id": "62c6f625-ae15-4b6b-baaf-3336ca1fda3e",
   "metadata": {},
   "outputs": [
    {
     "name": "stdout",
     "output_type": "stream",
     "text": [
      "Tolak null hypothesis\n"
     ]
    }
   ],
   "source": [
    "# Menyatakan rejection decision\n",
    "if chi_square<chi2_crit:\n",
    "    print(\"Tolak null hypothesis\")\n",
    "else:\n",
    "    print(\"Terima null hypothesis\")"
   ]
  },
  {
   "cell_type": "markdown",
   "id": "85afbeb5-925b-474f-9496-b4ca26b1b05d",
   "metadata": {},
   "source": [
    "> Variansi tagihan perokok tidak sama dengan tagihan non-perokok"
   ]
  },
  {
   "cell_type": "markdown",
   "id": "36e08ffe-d7b6-4e73-9855-ff9d290cf588",
   "metadata": {},
   "source": [
    "### 5.4. Apakah tagihan kesehatan dengan BMI di atas 25 lebih tinggi daripada tagihan kesehatan dengan BMI di bawah 25?"
   ]
  },
  {
   "cell_type": "markdown",
   "id": "9fb0cad3-cb4d-4b62-8b08-944d2d6f11c9",
   "metadata": {},
   "source": [
    "- H0: tagihan BMI di atas 25 <= tagihan BMI di bawah 25\n",
    "- H1: tagihan BMI di atas 25 > tagihan BMI di bawah 25"
   ]
  },
  {
   "cell_type": "code",
   "execution_count": null,
   "id": "730bdcc6-8400-4111-9dc2-c295aa85e230",
   "metadata": {},
   "outputs": [],
   "source": [
    "tagihan_bmilebih25 = insurance.query(\"bmi>25\").charges\n",
    "tagihan_bmikurang25 = insurance.query(\"bmi<25\").charges"
   ]
  },
  {
   "cell_type": "code",
   "execution_count": null,
   "id": "d3c0e904-3e35-49b8-ada9-d80be870ccaa",
   "metadata": {},
   "outputs": [
    {
     "data": {
      "text/plain": [
       "False"
      ]
     },
     "execution_count": null,
     "metadata": {},
     "output_type": "execute_result"
    }
   ],
   "source": [
    "tagihan_bmikurang25.var() == tagihan_bmilebih25.var()"
   ]
  },
  {
   "cell_type": "code",
   "execution_count": null,
   "id": "6289ee18-f01c-4419-b46a-85f68dd15962",
   "metadata": {},
   "outputs": [
    {
     "name": "stdout",
     "output_type": "stream",
     "text": [
      "Statistics = 5.9299, p-value = 0.0000\n"
     ]
    }
   ],
   "source": [
    "from scipy.stats import ttest_ind\n",
    "\n",
    "alpha=0.05\n",
    "\n",
    "stat, p = ttest_ind(\n",
    "    a = tagihan_bmilebih25,\n",
    "    b = tagihan_bmikurang25, \n",
    "    equal_var=False, \n",
    "    alternative='greater'\n",
    ") # eaual_var= False karena varians kedua populasi berbeda\n",
    "\n",
    "# Interpretasi Hasil\n",
    "print('Statistics = %.4f, p-value = %.4f' % (stat, p)) "
   ]
  },
  {
   "cell_type": "code",
   "execution_count": null,
   "id": "9fde943b-e0f2-4ef2-b211-c6ea02223caa",
   "metadata": {},
   "outputs": [
    {
     "name": "stdout",
     "output_type": "stream",
     "text": [
      "Tolak H0: tagihan BMI di atas 25 > tagihan BMI di bawah 25\n"
     ]
    }
   ],
   "source": [
    "# Pengambilan Keputusan\n",
    "if p > alpha:\n",
    "    print('Terima H0: tagihan BMI di atas 25 <= tagihan BMI di bawah 25') \n",
    "else:\n",
    "    print('Tolak H0: tagihan BMI di atas 25 > tagihan BMI di bawah 25')"
   ]
  },
  {
   "cell_type": "markdown",
   "id": "cf0f0cc6-8a69-4ccc-bc79-43e1a2a9b32b",
   "metadata": {},
   "source": [
    "### 5.5. Apakah tagihan kesehatan laki-laki lebih besar dari perempuan?"
   ]
  },
  {
   "cell_type": "markdown",
   "id": "28facb38-901c-4b81-81d7-d682973cee60",
   "metadata": {},
   "source": [
    "- H0: tagihan laki-laki <= tagihan perempuan\n",
    "- H1: tagihan laki-laki > tagihan perempuan"
   ]
  },
  {
   "cell_type": "code",
   "execution_count": null,
   "id": "d4e16bb0-204b-4b1e-90d0-b4ffa575b6a6",
   "metadata": {},
   "outputs": [],
   "source": [
    "tagihan_laki2 = insurance.query(\"sex == 'male'\").charges\n",
    "tagihan_perempuan = insurance.query(\"sex == 'female'\").charges"
   ]
  },
  {
   "cell_type": "code",
   "execution_count": null,
   "id": "7530d447-d41c-4ede-a21a-18765bf1e235",
   "metadata": {},
   "outputs": [
    {
     "data": {
      "text/plain": [
       "False"
      ]
     },
     "execution_count": null,
     "metadata": {},
     "output_type": "execute_result"
    }
   ],
   "source": [
    "tagihan_laki2.var() == tagihan_perempuan.var()"
   ]
  },
  {
   "cell_type": "code",
   "execution_count": null,
   "id": "a12f1bad-5626-4537-afbb-8267224a2dd8",
   "metadata": {},
   "outputs": [
    {
     "name": "stdout",
     "output_type": "stream",
     "text": [
      "Statistics = 2.1009, p-value = 0.0179\n"
     ]
    }
   ],
   "source": [
    "from scipy.stats import ttest_ind\n",
    "\n",
    "alpha=0.05\n",
    "\n",
    "stat, p = ttest_ind(\n",
    "    a = tagihan_laki2, \n",
    "    b = tagihan_perempuan, \n",
    "    equal_var=False, \n",
    "    alternative='greater'\n",
    ") # eaual_var= False karena varians kedua populasi berbeda\n",
    "\n",
    "# Interpretasi Hasil\n",
    "print('Statistics = %.4f, p-value = %.4f' % (stat, p)) "
   ]
  },
  {
   "cell_type": "code",
   "execution_count": null,
   "id": "b00db247-899f-4bbe-83a3-385f43380d62",
   "metadata": {},
   "outputs": [
    {
     "name": "stdout",
     "output_type": "stream",
     "text": [
      "Tolak H0: tagihan laki-laki > tagihan perempuan\n"
     ]
    }
   ],
   "source": [
    "# Pengambilan Keputusan\n",
    "if p > alpha:\n",
    "    print('Terima H0: tagihan laki-laki <= tagihan perempuan') \n",
    "else:\n",
    "    print('Tolak H0: tagihan laki-laki > tagihan perempuan')"
   ]
  },
  {
   "cell_type": "code",
   "execution_count": null,
   "id": "d3a8761d-7838-415b-b41f-5ed702386027",
   "metadata": {},
   "outputs": [
    {
     "data": {
      "text/plain": [
       "sex\n",
       "female    12569.578844\n",
       "male      13956.751178\n",
       "Name: charges, dtype: float64"
      ]
     },
     "execution_count": null,
     "metadata": {},
     "output_type": "execute_result"
    }
   ],
   "source": [
    "insurance.groupby('sex').charges.mean()"
   ]
  },
  {
   "cell_type": "markdown",
   "id": "4160bbb1-05f3-49c0-93bd-b20eae2340f1",
   "metadata": {},
   "source": [
    "> Secara statistik, tagihan laki-laki lebih besar daripada perempuan"
   ]
  },
  {
   "cell_type": "markdown",
   "id": "5a3fda54-27ec-4bd0-a1d1-50183c6620e9",
   "metadata": {},
   "source": [
    "# Outcome Project"
   ]
  },
  {
   "cell_type": "markdown",
   "id": "76934970-6d6e-4604-94b5-323ae219de70",
   "metadata": {},
   "source": [
    "## 1. Short Report"
   ]
  },
  {
   "cell_type": "markdown",
   "id": "9767a48d-1c42-4e04-a70d-1848983ac670",
   "metadata": {},
   "source": [
    "Link: https://ariewjy.github.io/posts/03-project-insurance-cost-part-1/"
   ]
  },
  {
   "cell_type": "markdown",
   "id": "563500a9-a12d-4be9-8845-41cf5fcf1d64",
   "metadata": {},
   "source": [
    "## 2. Video Penjelasan Tentang Bayes Theorem"
   ]
  },
  {
   "cell_type": "markdown",
   "id": "d170af78-6395-4d07-9743-4e170a1d8384",
   "metadata": {},
   "source": [
    "Link: https://youtu.be/Zdtwk_hAqIg"
   ]
  },
  {
   "cell_type": "markdown",
   "id": "3c39f5f2-7752-48ef-a023-6aabd5961e84",
   "metadata": {},
   "source": [
    "## 3. Link GITHUB"
   ]
  },
  {
   "cell_type": "markdown",
   "id": "82868b81-437f-4d2b-b57e-9fb72647e579",
   "metadata": {},
   "source": [
    "https://github.com/ariewjy/ariewjy.github.io/tree/main/posts/03-project-insurance-cost-part-1"
   ]
  }
 ],
 "metadata": {
  "kernelspec": {
   "display_name": "minids",
   "language": "python",
   "name": "minids"
  },
  "language_info": {
   "codemirror_mode": {
    "name": "ipython",
    "version": 3
   },
   "file_extension": ".py",
   "mimetype": "text/x-python",
   "name": "python",
   "nbconvert_exporter": "python",
   "pygments_lexer": "ipython3",
   "version": "3.9.15"
  }
 },
 "nbformat": 4,
 "nbformat_minor": 5
}
